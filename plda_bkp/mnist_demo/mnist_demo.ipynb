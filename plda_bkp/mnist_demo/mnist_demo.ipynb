{
 "cells": [
  {
   "cell_type": "code",
   "execution_count": 1,
   "metadata": {},
   "outputs": [],
   "source": [
    "import os\n",
    "import sys\n",
    "sys.path.insert(0, os.path.join(os.getcwd(), '..', '..'))\n",
    "import plda\n",
    "import numpy as np\n",
    "import matplotlib.pyplot as plt\n",
    "%matplotlib inline"
   ]
  },
  {
   "cell_type": "markdown",
   "metadata": {},
   "source": [
    "# Load Data."
   ]
  },
  {
   "cell_type": "code",
   "execution_count": 2,
   "metadata": {},
   "outputs": [],
   "source": [
    "# To minimize the size of this repository, I only provide 200 training and 100 testing images.\n",
    "training_data = np.load('mnist_data/mnist_train_images.npy')\n",
    "training_labels = np.load('mnist_data/mnist_train_labels.npy')\n",
    "testing_data = np.load('mnist_data/mnist_test_images.npy')\n",
    "testing_labels = np.load('mnist_data/mnist_test_labels.npy')"
   ]
  },
  {
   "cell_type": "code",
   "execution_count": 3,
   "metadata": {
    "scrolled": false
   },
   "outputs": [
    {
     "name": "stdout",
     "output_type": "stream",
     "text": [
      "(200, 784) (200,)\n",
      "(100, 784) (100,)\n"
     ]
    }
   ],
   "source": [
    "print(training_data.shape, training_labels.shape)\n",
    "print(testing_data.shape, testing_labels.shape)"
   ]
  },
  {
   "cell_type": "code",
   "execution_count": 4,
   "metadata": {
    "scrolled": true
   },
   "outputs": [
    {
     "data": {
      "image/png": "[encoded data removed]",
      "text/plain": [
       "<Figure size 720x144 with 5 Axes>"
      ]
     },
     "metadata": {},
     "output_type": "display_data"
    }
   ],
   "source": [
    "n_examples = 5\n",
    "fig, ax_arr = plt.subplots(1, n_examples, figsize=(10, 2))\n",
    "\n",
    "for x in range(n_examples):\n",
    "    ax_arr[x].imshow(training_data[x].reshape(28, 28), cmap='gray')\n",
    "    ax_arr[x].set_xticks([])\n",
    "    ax_arr[x].set_yticks([])\n",
    "plt.show()"
   ]
  },
  {
   "cell_type": "markdown",
   "metadata": {},
   "source": [
    "# Optional control over Preprocessing with Principal Components Analysis"
   ]
  },
  {
   "cell_type": "code",
   "execution_count": 5,
   "metadata": {},
   "outputs": [],
   "source": [
    "classifier = plda.Classifier()\n",
    "\n",
    "# Use the 5 top principal components to reduce overfitting.\n",
    "# This will preprocess training data from shape (200, 784) to (200, 5).\n",
    "classifier.fit_model(training_data, training_labels, n_principal_components=5)\n",
    "\n",
    "predictions, log_p_predictions = classifier.predict(testing_data)"
   ]
  },
  {
   "cell_type": "code",
   "execution_count": 6,
   "metadata": {},
   "outputs": [
    {
     "name": "stdout",
     "output_type": "stream",
     "text": [
      "Accuracy: 0.54\n"
     ]
    }
   ],
   "source": [
    "print('Accuracy: {}'.format((testing_labels == predictions).mean()))"
   ]
  },
  {
   "cell_type": "code",
   "execution_count": 7,
   "metadata": {},
   "outputs": [
    {
     "data": {
      "image/png": "[encoded data removed]",
      "text/plain": [
       "<Figure size 1440x144 with 10 Axes>"
      ]
     },
     "metadata": {},
     "output_type": "display_data"
    }
   ],
   "source": [
    "n_examples = 10\n",
    "fig, ax_arr = plt.subplots(1, n_examples, figsize=(20, 2))\n",
    "\n",
    "for x in range(n_examples):\n",
    "    ax_arr[x].imshow(testing_data[x].reshape(28, 28), cmap='gray')\n",
    "    ax_arr[x].set_xticks([])\n",
    "    ax_arr[x].set_yticks([])\n",
    "    title = 'Prediction: {}'\n",
    "    xlabel = 'Truth: {}'\n",
    "    ax_arr[x].set_title(title.format(predictions[x]))\n",
    "    ax_arr[x].set_xlabel(xlabel.format(testing_labels[x]))\n",
    "plt.show()"
   ]
  },
  {
   "cell_type": "markdown",
   "metadata": {},
   "source": [
    "# Default setting uses as many Principal Components as possible."
   ]
  },
  {
   "cell_type": "code",
   "execution_count": 8,
   "metadata": {},
   "outputs": [],
   "source": [
    "classifier = plda.Classifier()\n",
    "\n",
    "# Use as many principal components as possible.\n",
    "classifier.fit_model(training_data, training_labels)\n",
    "\n",
    "predictions, log_p_predictions = classifier.predict(testing_data)"
   ]
  },
  {
   "cell_type": "code",
   "execution_count": 9,
   "metadata": {},
   "outputs": [
    {
     "name": "stdout",
     "output_type": "stream",
     "text": [
      "Accuracy: 0.28\n"
     ]
    }
   ],
   "source": [
    "# Overfit due to curse of dimensionality:\n",
    "#  ratio of avg. sample size to data dimension is very small\n",
    "#  (about ~20 / 200 = ~.2).\n",
    "print('Accuracy: {}'.format((testing_labels == predictions).mean()))"
   ]
  },
  {
   "cell_type": "code",
   "execution_count": 10,
   "metadata": {
    "scrolled": true
   },
   "outputs": [
    {
     "data": {
      "image/png": "[encoded data removed]",
      "text/plain": [
       "<Figure size 1440x144 with 10 Axes>"
      ]
     },
     "metadata": {},
     "output_type": "display_data"
    }
   ],
   "source": [
    "n_examples = 10\n",
    "fig, ax_arr = plt.subplots(1, n_examples, figsize=(20, 2))\n",
    "\n",
    "for x in range(n_examples):\n",
    "    ax_arr[x].imshow(testing_data[x].reshape(28, 28), cmap='gray')\n",
    "    ax_arr[x].set_xticks([])\n",
    "    ax_arr[x].set_yticks([])\n",
    "    title = 'Prediction: {}'\n",
    "    xlabel = 'Truth: {}'\n",
    "    ax_arr[x].set_title(title.format(predictions[x]))\n",
    "    ax_arr[x].set_xlabel(xlabel.format(testing_labels[x]))\n",
    "plt.show()"
   ]
  },
  {
   "cell_type": "markdown",
   "metadata": {},
   "source": [
    "# Getting PCA Preprocessing information"
   ]
  },
  {
   "cell_type": "code",
   "execution_count": 11,
   "metadata": {},
   "outputs": [
    {
     "data": {
      "text/plain": [
       "sklearn.decomposition.pca.PCA"
      ]
     },
     "execution_count": 11,
     "metadata": {},
     "output_type": "execute_result"
    }
   ],
   "source": [
    "type(classifier.model.pca)"
   ]
  },
  {
   "cell_type": "code",
   "execution_count": 12,
   "metadata": {},
   "outputs": [
    {
     "data": {
      "text/plain": [
       "PCA(copy=True, iterated_power='auto', n_components=190, random_state=None,\n",
       "  svd_solver='auto', tol=0.0, whiten=False)"
      ]
     },
     "execution_count": 12,
     "metadata": {},
     "output_type": "execute_result"
    }
   ],
   "source": [
    "classifier.model.pca"
   ]
  },
  {
   "cell_type": "code",
   "execution_count": 13,
   "metadata": {},
   "outputs": [
    {
     "data": {
      "text/plain": [
       "784"
      ]
     },
     "execution_count": 13,
     "metadata": {},
     "output_type": "execute_result"
    }
   ],
   "source": [
    "classifier.model.pca.n_features_  # Original dimensionality."
   ]
  },
  {
   "cell_type": "code",
   "execution_count": 14,
   "metadata": {},
   "outputs": [
    {
     "data": {
      "text/plain": [
       "190"
      ]
     },
     "execution_count": 14,
     "metadata": {},
     "output_type": "execute_result"
    }
   ],
   "source": [
    "classifier.model.pca.n_components  # Preprocessed dimensionality"
   ]
  },
  {
   "cell_type": "markdown",
   "metadata": {},
   "source": [
    "# Parameters fitted via Maximum Likelihood of the Data"
   ]
  },
  {
   "cell_type": "code",
   "execution_count": 15,
   "metadata": {},
   "outputs": [],
   "source": [
    "Psi = classifier.model.Psi\n",
    "A = classifier.model.A\n",
    "inv_A = classifier.model.inv_A\n",
    "m = classifier.model.m\n",
    "\n",
    "# Indices of the subspace used for classification.\n",
    "relevant_U_dims = classifier.model.relevant_U_dims"
   ]
  },
  {
   "cell_type": "markdown",
   "metadata": {},
   "source": [
    "# Prior Gaussian Parameters"
   ]
  },
  {
   "cell_type": "code",
   "execution_count": 16,
   "metadata": {
    "scrolled": true
   },
   "outputs": [
    {
     "data": {
      "text/plain": [
       "dict_keys(['cov_diag', 'mean'])"
      ]
     },
     "execution_count": 16,
     "metadata": {},
     "output_type": "execute_result"
    }
   ],
   "source": [
    "classifier.model.prior_params.keys()"
   ]
  },
  {
   "cell_type": "markdown",
   "metadata": {},
   "source": [
    "# Posterior Gaussian Parameters"
   ]
  },
  {
   "cell_type": "code",
   "execution_count": 17,
   "metadata": {
    "scrolled": true
   },
   "outputs": [
    {
     "data": {
      "text/plain": [
       "dict_keys([0, 1, 2, 3, 4, 5, 6, 7, 8, 9])"
      ]
     },
     "execution_count": 17,
     "metadata": {},
     "output_type": "execute_result"
    }
   ],
   "source": [
    "# Categories in the training data.\n",
    "classifier.model.posterior_params.keys()"
   ]
  },
  {
   "cell_type": "code",
   "execution_count": 18,
   "metadata": {},
   "outputs": [
    {
     "data": {
      "text/plain": [
       "dict_keys(['cov_diag', 'mean'])"
      ]
     },
     "execution_count": 18,
     "metadata": {},
     "output_type": "execute_result"
    }
   ],
   "source": [
    "# Parameters for a category.\n",
    "classifier.model.posterior_params[0].keys()"
   ]
  },
  {
   "cell_type": "markdown",
   "metadata": {},
   "source": [
    "# Posterior Predictive Gaussian Parameters"
   ]
  },
  {
   "cell_type": "code",
   "execution_count": 19,
   "metadata": {},
   "outputs": [
    {
     "data": {
      "text/plain": [
       "dict_keys([0, 1, 2, 3, 4, 5, 6, 7, 8, 9])"
      ]
     },
     "execution_count": 19,
     "metadata": {},
     "output_type": "execute_result"
    }
   ],
   "source": [
    "# Categories in the training data.\n",
    "classifier.model.posterior_predictive_params.keys()"
   ]
  },
  {
   "cell_type": "code",
   "execution_count": 20,
   "metadata": {},
   "outputs": [
    {
     "data": {
      "text/plain": [
       "dict_keys(['cov_diag', 'mean'])"
      ]
     },
     "execution_count": 20,
     "metadata": {},
     "output_type": "execute_result"
    }
   ],
   "source": [
    "# Parameters for a category.\n",
    "classifier.model.posterior_predictive_params[0].keys()"
   ]
  },
  {
   "cell_type": "markdown",
   "metadata": {},
   "source": [
    "# Transforming Data to PLDA Space"
   ]
  },
  {
   "cell_type": "markdown",
   "metadata": {},
   "source": [
    "There are 4 \"spaces\" that result from the transformations the model performs:\n",
    "1. Data space ('D'),\n",
    "2. Preprocessed data space ('X'),\n",
    "3. Latent space ('U'), and\n",
    "4. The \"effective\" subspace of the latent space ('U_model'), \n",
    "    which is essentially the set of dimensions the model actually uses for prediction.\n",
    "\n",
    "You can transform data between these spaces using the `classifier.model.transform()` function."
   ]
  },
  {
   "cell_type": "code",
   "execution_count": 21,
   "metadata": {},
   "outputs": [
    {
     "name": "stdout",
     "output_type": "stream",
     "text": [
      "(200, 784)\n",
      "(200, 9)\n"
     ]
    }
   ],
   "source": [
    "U_model = classifier.model.transform(training_data, from_space='D', to_space='U_model')\n",
    "\n",
    "print(training_data.shape)\n",
    "print(U_model.shape)"
   ]
  },
  {
   "cell_type": "code",
   "execution_count": 22,
   "metadata": {},
   "outputs": [
    {
     "name": "stdout",
     "output_type": "stream",
     "text": [
      "(200, 9)\n",
      "(200, 784)\n"
     ]
    }
   ],
   "source": [
    "D = classifier.model.transform(U_model, from_space='U_model', to_space='D')\n",
    "\n",
    "print(U_model.shape)\n",
    "print(D.shape)"
   ]
  }
 ],
 "metadata": {
  "kernelspec": {
   "display_name": "Python [conda env:plda]",
   "language": "python",
   "name": "conda-env-plda-py"
  },
  "language_info": {
   "codemirror_mode": {
    "name": "ipython",
    "version": 3
   },
   "file_extension": ".py",
   "mimetype": "text/x-python",
   "name": "python",
   "nbconvert_exporter": "python",
   "pygments_lexer": "ipython3",
   "version": "3.5.5"
  },
  "widgets": {
   "state": {},
   "version": "1.1.2"
  }
 },
 "nbformat": 4,
 "nbformat_minor": 2
}
