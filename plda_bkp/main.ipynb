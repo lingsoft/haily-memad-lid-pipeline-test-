{
 "cells": [
  {
   "cell_type": "code",
   "execution_count": 29,
   "source": [
    "# Automatically reload imported modules that are changed outside this notebook\n",
    "%load_ext autoreload\n",
    "%autoreload 2\n",
    "\n",
    "# More pixels in figures\n",
    "import matplotlib.pyplot as plt\n",
    "%matplotlib inline\n",
    "plt.rcParams[\"figure.dpi\"] = 200\n",
    "\n",
    "# Init PRNG with fixed seed for reproducibility\n",
    "import numpy as np\n",
    "np_rng = np.random.default_rng(1)\n",
    "\n",
    "import tensorflow as tf\n",
    "tf.random.set_seed(np_rng.integers(0, tf.int64.max))"
   ],
   "outputs": [
    {
     "output_type": "stream",
     "name": "stdout",
     "text": [
      "The autoreload extension is already loaded. To reload it, use:\n",
      "  %reload_ext autoreload\n"
     ]
    }
   ],
   "metadata": {
    "scrolled": true
   }
  },
  {
   "cell_type": "code",
   "execution_count": 30,
   "source": [
    "!python3 --version"
   ],
   "outputs": [
    {
     "output_type": "stream",
     "name": "stdout",
     "text": [
      "Python 3.7.11\n"
     ]
    }
   ],
   "metadata": {}
  },
  {
   "cell_type": "markdown",
   "source": [
    "# Common Voice spoken language identification with a  neural network\n",
    "\n",
    "**2020-11-08**\n",
    "\n",
    "\n",
    "This example is a thorough, but simple walk-through on how to do everything from loading mp3-files containing speech to preprocessing and transforming the speech data into something we can feed to a neural network classifier.\n",
    "Deep learning based speech analysis is a vast research topic and there are countless techniques that could possibly be applied to improve the results of this example.\n",
    "This example tries to avoid going into too much detail into these techniques and instead focuses on getting an end-to-end classification pipeline up and running with a small dataset.\n",
    "\n",
    "## Data\n",
    "\n",
    "This example uses open speech data downloaded from the [Mozilla Common Voice](https://commonvoice.mozilla.org/en/datasets) project.\n",
    "See the readme file for downloading the data.\n",
    "In addition to the space needed for the downloaded data, you will need at least 10 GiB of free disk space for caching (can be disabled)."
   ],
   "metadata": {}
  },
  {
   "cell_type": "code",
   "execution_count": 39,
   "source": [
    "import urllib.parse\n",
    "from IPython.display import display, Markdown\n",
    "\n",
    "\n",
    "languages = \"\"\"\n",
    "fi\n",
    "\"\"\".split()\n",
    "\n",
    "languages = sorted(l.strip() for l in languages)\n",
    "\n",
    "display(Markdown(\"### Languages\"))\n",
    "display(Markdown('\\n'.join(\"* `{}`\".format(l) for l in languages)))\n",
    "\n",
    "bcp47_validator_url = 'https://schneegans.de/lv/?tags='\n",
    "display(Markdown(\"See [this tool]({}) for a description of the BCP-47 language codes.\"\n",
    "                 .format(bcp47_validator_url + urllib.parse.quote('\\n'.join(languages)))))"
   ],
   "outputs": [
    {
     "output_type": "display_data",
     "data": {
      "text/plain": [
       "<IPython.core.display.Markdown object>"
      ],
      "text/markdown": [
       "### Languages"
      ]
     },
     "metadata": {}
    },
    {
     "output_type": "display_data",
     "data": {
      "text/plain": [
       "<IPython.core.display.Markdown object>"
      ],
      "text/markdown": [
       "* `fi`"
      ]
     },
     "metadata": {}
    },
    {
     "output_type": "display_data",
     "data": {
      "text/plain": [
       "<IPython.core.display.Markdown object>"
      ],
      "text/markdown": [
       "See [this tool](https://schneegans.de/lv/?tags=fi) for a description of the BCP-47 language codes."
      ]
     },
     "metadata": {}
    }
   ],
   "metadata": {}
  },
  {
   "cell_type": "markdown",
   "source": [
    "## Loading the metadata\n",
    "\n",
    "We start by preprocessing the Common Voice metadata files.\n",
    "\n",
    "Update `datadir` and `workdir` to match your setup.\n",
    "All output will be written to `workdir`."
   ],
   "metadata": {}
  },
  {
   "cell_type": "code",
   "execution_count": 40,
   "source": [
    "import os\n",
    "\n",
    "\n",
    "workdir = \"data/\"\n",
    "#datadir = \"/mnt/data/speech/common-voice/downloads/2020/cv-corpus\"\n",
    "datadir = \"/Users/haily/Downloads/cv-corpus-7.0-2021-07-21\"\n",
    "\"\"\n",
    "print(\"work dir:\", workdir)\n",
    "print(\"data source dir:\", datadir)\n",
    "\n",
    "os.makedirs(workdir, exist_ok=True)\n",
    "assert os.path.isdir(datadir), datadir + \" does not exist\""
   ],
   "outputs": [
    {
     "output_type": "stream",
     "name": "stdout",
     "text": [
      "work dir: data/\n",
      "data source dir: /Users/haily/Downloads/cv-corpus-7.0-2021-07-21\n"
     ]
    }
   ],
   "metadata": {}
  },
  {
   "cell_type": "markdown",
   "source": [
    "Common Voice metadata is distributed as `tsv` files and all audio samples are mp3-files under `clips`."
   ],
   "metadata": {}
  },
  {
   "cell_type": "code",
   "execution_count": 41,
   "source": [
    "dirs = sorted((f for f in os.scandir(datadir) if f.is_dir()), key=lambda f: f.name)\n",
    "\n",
    "print(datadir)\n",
    "for d in dirs:\n",
    "    if d.name in languages:\n",
    "        print(' ', d.name)\n",
    "        for f in os.scandir(d):\n",
    "            print('   ', f.name)\n",
    "\n",
    "missing_languages = set(languages) - set(d.name for d in dirs)\n",
    "assert missing_languages == set(), \"missing languages: {}\".format(missing_languages)"
   ],
   "outputs": [
    {
     "output_type": "stream",
     "name": "stdout",
     "text": [
      "/Users/haily/Downloads/cv-corpus-7.0-2021-07-21\n",
      "  fi\n",
      "    .DS_Store\n",
      "    clips\n",
      "    train.tsv\n",
      "    dev.tsv\n",
      "    validated.tsv\n",
      "    test.tsv\n",
      "    other.tsv\n",
      "    reported.tsv\n",
      "    invalidated.tsv\n"
     ]
    }
   ],
   "metadata": {
    "scrolled": false
   }
  },
  {
   "cell_type": "markdown",
   "source": [
    "There's plenty of metadata, but it seems that the train-dev-test split has been predefined so lets use that.\n",
    "\n",
    "[pandas](https://pandas.pydata.org/pandas-docs/stable/index.html) makes it easy to read, filter, and manipulate metadata in tables.\n",
    "Lets try to preprocess all metadata here so we don't have to worry about it later."
   ],
   "metadata": {}
  },
  {
   "cell_type": "code",
   "execution_count": 42,
   "source": [
    "import pandas as pd\n",
    "from IPython.display import display, Markdown\n",
    "\n",
    "\n",
    "# Lexicographic order of labels as a fixed index target to label mapping\n",
    "target2lang = tuple(sorted(languages))\n",
    "lang2target = {lang: target for target, lang in enumerate(target2lang)}\n",
    "\n",
    "print(\"lang2target:\", lang2target)\n",
    "print(\"target2lang:\", target2lang)\n",
    "\n",
    "\n",
    "def expand_metadata(row):\n",
    "    \"\"\"\n",
    "    Update dataframe row by generating a unique utterance id,\n",
    "    expanding the absolute path to the mp3 file,\n",
    "    and adding an integer target for the label.\n",
    "    \"\"\"\n",
    "    row.id = \"{:s}_{:s}\".format(\n",
    "        row.path.split(\".mp3\", 1)[0].split(\"common_voice_\", 1)[1],\n",
    "        row.split)\n",
    "    row.path = os.path.join(datadir, row.lang, \"clips\", row.path)\n",
    "    row.target = lang2target[row.lang]\n",
    "    return row\n",
    "\n",
    "\n",
    "def tsv_to_lang_dataframe(lang, split):\n",
    "    \"\"\"\n",
    "    Given a language and dataset split (train, dev, test),\n",
    "    load the Common Voice metadata tsv-file from disk into a pandas.DataFrame.\n",
    "    Preprocess all rows by dropping unneeded columns and adding new metadata.\n",
    "    \"\"\"\n",
    "    df = pd.read_csv(\n",
    "        os.path.join(datadir, lang, split + \".tsv\"),\n",
    "        sep='\\t',\n",
    "        # We only need these columns from the metadata\n",
    "        usecols=(\"client_id\", \"path\", \"sentence\"))\n",
    "    # Add language label as column\n",
    "    df.insert(len(df.columns), \"lang\", lang)\n",
    "    # Add split name to every row for easier filtering\n",
    "    df.insert(len(df.columns), \"split\", split)\n",
    "    # Add placeholders for integer targets and utterance ids generated row-wise\n",
    "    df.insert(len(df.columns), \"target\", -1)\n",
    "    df.insert(len(df.columns), \"id\", \"\")\n",
    "    # Create new metadata columns\n",
    "    df = df.transform(expand_metadata, axis=1)\n",
    "    return df\n",
    "\n",
    "\n",
    "split_names = (\"train\", \"dev\", \"test\")\n",
    "\n",
    "# Concatenate metadata for all 4 languages into a single table for each split\n",
    "splits = [pd.concat([tsv_to_lang_dataframe(lang, split) for lang in target2lang])\n",
    "          for split in split_names]\n",
    "\n",
    "# Concatenate split metadata into a single table, indexed by utterance ids\n",
    "meta = (pd.concat(splits)\n",
    "        .set_index(\"id\", drop=True, verify_integrity=True)\n",
    "        .sort_index())\n",
    "del splits\n",
    "\n",
    "for split in split_names:\n",
    "    display(Markdown(\"### \" + split))\n",
    "    display(meta[meta[\"split\"]==split])"
   ],
   "outputs": [
    {
     "output_type": "stream",
     "name": "stdout",
     "text": [
      "lang2target: {'fi': 0}\n",
      "target2lang: ('fi',)\n"
     ]
    },
    {
     "output_type": "display_data",
     "data": {
      "text/plain": [
       "<IPython.core.display.Markdown object>"
      ],
      "text/markdown": [
       "### train"
      ]
     },
     "metadata": {}
    },
    {
     "output_type": "display_data",
     "data": {
      "text/plain": [
       "                                                           client_id  \\\n",
       "id                                                                     \n",
       "fi_22986631_train  4eeeb22a3bbb52e5215593a09a845f0f8c496e0a7c498c...   \n",
       "fi_22986632_train  4eeeb22a3bbb52e5215593a09a845f0f8c496e0a7c498c...   \n",
       "fi_22986633_train  4eeeb22a3bbb52e5215593a09a845f0f8c496e0a7c498c...   \n",
       "fi_22986634_train  4eeeb22a3bbb52e5215593a09a845f0f8c496e0a7c498c...   \n",
       "fi_22986635_train  4eeeb22a3bbb52e5215593a09a845f0f8c496e0a7c498c...   \n",
       "...                                                              ...   \n",
       "fi_25900684_train  cea18d12298f2bbae520713a1cfcf05e63b2b9470dcc0a...   \n",
       "fi_25913820_train  cea18d12298f2bbae520713a1cfcf05e63b2b9470dcc0a...   \n",
       "fi_25941268_train  cea18d12298f2bbae520713a1cfcf05e63b2b9470dcc0a...   \n",
       "fi_25948703_train  cea18d12298f2bbae520713a1cfcf05e63b2b9470dcc0a...   \n",
       "fi_26038413_train  cea18d12298f2bbae520713a1cfcf05e63b2b9470dcc0a...   \n",
       "\n",
       "                                                                path  \\\n",
       "id                                                                     \n",
       "fi_22986631_train  /Users/haily/Downloads/cv-corpus-7.0-2021-07-2...   \n",
       "fi_22986632_train  /Users/haily/Downloads/cv-corpus-7.0-2021-07-2...   \n",
       "fi_22986633_train  /Users/haily/Downloads/cv-corpus-7.0-2021-07-2...   \n",
       "fi_22986634_train  /Users/haily/Downloads/cv-corpus-7.0-2021-07-2...   \n",
       "fi_22986635_train  /Users/haily/Downloads/cv-corpus-7.0-2021-07-2...   \n",
       "...                                                              ...   \n",
       "fi_25900684_train  /Users/haily/Downloads/cv-corpus-7.0-2021-07-2...   \n",
       "fi_25913820_train  /Users/haily/Downloads/cv-corpus-7.0-2021-07-2...   \n",
       "fi_25941268_train  /Users/haily/Downloads/cv-corpus-7.0-2021-07-2...   \n",
       "fi_25948703_train  /Users/haily/Downloads/cv-corpus-7.0-2021-07-2...   \n",
       "fi_26038413_train  /Users/haily/Downloads/cv-corpus-7.0-2021-07-2...   \n",
       "\n",
       "                                                            sentence lang  \\\n",
       "id                                                                          \n",
       "fi_22986631_train                                Mitä nyt tekisimme?   fi   \n",
       "fi_22986632_train  Äänestämme tämän vuoksi toisin kuin maataloude...   fi   \n",
       "fi_22986633_train                          Rupeatko remmiin, vai et?   fi   \n",
       "fi_22986634_train            Äänestin näin ollen mietinnön puolesta.   fi   \n",
       "fi_22986635_train  Kiitos, että tulitte ja opetitte meille viisau...   fi   \n",
       "...                                                              ...  ...   \n",
       "fi_25900684_train                                  Jopa se puhaltaa.   fi   \n",
       "fi_25913820_train                         Suomalainen on itsepäinen.   fi   \n",
       "fi_25941268_train  Amsterdam päätti kansallisten hallitusten epäo...   fi   \n",
       "fi_25948703_train  Korkeatasoinen tutkimus ja opetus takaavat, et...   fi   \n",
       "fi_26038413_train             Enhän minä ollut tehnyt mitään väärää?   fi   \n",
       "\n",
       "                   split target  \n",
       "id                               \n",
       "fi_22986631_train  train      0  \n",
       "fi_22986632_train  train      0  \n",
       "fi_22986633_train  train      0  \n",
       "fi_22986634_train  train      0  \n",
       "fi_22986635_train  train      0  \n",
       "...                  ...    ...  \n",
       "fi_25900684_train  train      0  \n",
       "fi_25913820_train  train      0  \n",
       "fi_25941268_train  train      0  \n",
       "fi_25948703_train  train      0  \n",
       "fi_26038413_train  train      0  \n",
       "\n",
       "[2134 rows x 6 columns]"
      ],
      "text/html": [
       "<div>\n",
       "<style scoped>\n",
       "    .dataframe tbody tr th:only-of-type {\n",
       "        vertical-align: middle;\n",
       "    }\n",
       "\n",
       "    .dataframe tbody tr th {\n",
       "        vertical-align: top;\n",
       "    }\n",
       "\n",
       "    .dataframe thead th {\n",
       "        text-align: right;\n",
       "    }\n",
       "</style>\n",
       "<table border=\"1\" class=\"dataframe\">\n",
       "  <thead>\n",
       "    <tr style=\"text-align: right;\">\n",
       "      <th></th>\n",
       "      <th>client_id</th>\n",
       "      <th>path</th>\n",
       "      <th>sentence</th>\n",
       "      <th>lang</th>\n",
       "      <th>split</th>\n",
       "      <th>target</th>\n",
       "    </tr>\n",
       "    <tr>\n",
       "      <th>id</th>\n",
       "      <th></th>\n",
       "      <th></th>\n",
       "      <th></th>\n",
       "      <th></th>\n",
       "      <th></th>\n",
       "      <th></th>\n",
       "    </tr>\n",
       "  </thead>\n",
       "  <tbody>\n",
       "    <tr>\n",
       "      <th>fi_22986631_train</th>\n",
       "      <td>4eeeb22a3bbb52e5215593a09a845f0f8c496e0a7c498c...</td>\n",
       "      <td>/Users/haily/Downloads/cv-corpus-7.0-2021-07-2...</td>\n",
       "      <td>Mitä nyt tekisimme?</td>\n",
       "      <td>fi</td>\n",
       "      <td>train</td>\n",
       "      <td>0</td>\n",
       "    </tr>\n",
       "    <tr>\n",
       "      <th>fi_22986632_train</th>\n",
       "      <td>4eeeb22a3bbb52e5215593a09a845f0f8c496e0a7c498c...</td>\n",
       "      <td>/Users/haily/Downloads/cv-corpus-7.0-2021-07-2...</td>\n",
       "      <td>Äänestämme tämän vuoksi toisin kuin maataloude...</td>\n",
       "      <td>fi</td>\n",
       "      <td>train</td>\n",
       "      <td>0</td>\n",
       "    </tr>\n",
       "    <tr>\n",
       "      <th>fi_22986633_train</th>\n",
       "      <td>4eeeb22a3bbb52e5215593a09a845f0f8c496e0a7c498c...</td>\n",
       "      <td>/Users/haily/Downloads/cv-corpus-7.0-2021-07-2...</td>\n",
       "      <td>Rupeatko remmiin, vai et?</td>\n",
       "      <td>fi</td>\n",
       "      <td>train</td>\n",
       "      <td>0</td>\n",
       "    </tr>\n",
       "    <tr>\n",
       "      <th>fi_22986634_train</th>\n",
       "      <td>4eeeb22a3bbb52e5215593a09a845f0f8c496e0a7c498c...</td>\n",
       "      <td>/Users/haily/Downloads/cv-corpus-7.0-2021-07-2...</td>\n",
       "      <td>Äänestin näin ollen mietinnön puolesta.</td>\n",
       "      <td>fi</td>\n",
       "      <td>train</td>\n",
       "      <td>0</td>\n",
       "    </tr>\n",
       "    <tr>\n",
       "      <th>fi_22986635_train</th>\n",
       "      <td>4eeeb22a3bbb52e5215593a09a845f0f8c496e0a7c498c...</td>\n",
       "      <td>/Users/haily/Downloads/cv-corpus-7.0-2021-07-2...</td>\n",
       "      <td>Kiitos, että tulitte ja opetitte meille viisau...</td>\n",
       "      <td>fi</td>\n",
       "      <td>train</td>\n",
       "      <td>0</td>\n",
       "    </tr>\n",
       "    <tr>\n",
       "      <th>...</th>\n",
       "      <td>...</td>\n",
       "      <td>...</td>\n",
       "      <td>...</td>\n",
       "      <td>...</td>\n",
       "      <td>...</td>\n",
       "      <td>...</td>\n",
       "    </tr>\n",
       "    <tr>\n",
       "      <th>fi_25900684_train</th>\n",
       "      <td>cea18d12298f2bbae520713a1cfcf05e63b2b9470dcc0a...</td>\n",
       "      <td>/Users/haily/Downloads/cv-corpus-7.0-2021-07-2...</td>\n",
       "      <td>Jopa se puhaltaa.</td>\n",
       "      <td>fi</td>\n",
       "      <td>train</td>\n",
       "      <td>0</td>\n",
       "    </tr>\n",
       "    <tr>\n",
       "      <th>fi_25913820_train</th>\n",
       "      <td>cea18d12298f2bbae520713a1cfcf05e63b2b9470dcc0a...</td>\n",
       "      <td>/Users/haily/Downloads/cv-corpus-7.0-2021-07-2...</td>\n",
       "      <td>Suomalainen on itsepäinen.</td>\n",
       "      <td>fi</td>\n",
       "      <td>train</td>\n",
       "      <td>0</td>\n",
       "    </tr>\n",
       "    <tr>\n",
       "      <th>fi_25941268_train</th>\n",
       "      <td>cea18d12298f2bbae520713a1cfcf05e63b2b9470dcc0a...</td>\n",
       "      <td>/Users/haily/Downloads/cv-corpus-7.0-2021-07-2...</td>\n",
       "      <td>Amsterdam päätti kansallisten hallitusten epäo...</td>\n",
       "      <td>fi</td>\n",
       "      <td>train</td>\n",
       "      <td>0</td>\n",
       "    </tr>\n",
       "    <tr>\n",
       "      <th>fi_25948703_train</th>\n",
       "      <td>cea18d12298f2bbae520713a1cfcf05e63b2b9470dcc0a...</td>\n",
       "      <td>/Users/haily/Downloads/cv-corpus-7.0-2021-07-2...</td>\n",
       "      <td>Korkeatasoinen tutkimus ja opetus takaavat, et...</td>\n",
       "      <td>fi</td>\n",
       "      <td>train</td>\n",
       "      <td>0</td>\n",
       "    </tr>\n",
       "    <tr>\n",
       "      <th>fi_26038413_train</th>\n",
       "      <td>cea18d12298f2bbae520713a1cfcf05e63b2b9470dcc0a...</td>\n",
       "      <td>/Users/haily/Downloads/cv-corpus-7.0-2021-07-2...</td>\n",
       "      <td>Enhän minä ollut tehnyt mitään väärää?</td>\n",
       "      <td>fi</td>\n",
       "      <td>train</td>\n",
       "      <td>0</td>\n",
       "    </tr>\n",
       "  </tbody>\n",
       "</table>\n",
       "<p>2134 rows × 6 columns</p>\n",
       "</div>"
      ]
     },
     "metadata": {}
    },
    {
     "output_type": "display_data",
     "data": {
      "text/plain": [
       "<IPython.core.display.Markdown object>"
      ],
      "text/markdown": [
       "### dev"
      ]
     },
     "metadata": {}
    },
    {
     "output_type": "display_data",
     "data": {
      "text/plain": [
       "                                                         client_id  \\\n",
       "id                                                                   \n",
       "fi_22994737_dev  f6c374d6e4e004c91278cc96d760776b435fb9983e35a7...   \n",
       "fi_22994739_dev  f6c374d6e4e004c91278cc96d760776b435fb9983e35a7...   \n",
       "fi_22994740_dev  f6c374d6e4e004c91278cc96d760776b435fb9983e35a7...   \n",
       "fi_22994742_dev  f6c374d6e4e004c91278cc96d760776b435fb9983e35a7...   \n",
       "fi_22994798_dev  f6c374d6e4e004c91278cc96d760776b435fb9983e35a7...   \n",
       "...                                                            ...   \n",
       "fi_25466549_dev  8a47121d35e6f8cd6ef71e56b2aca08664ca4ff3db6579...   \n",
       "fi_25466554_dev  8a47121d35e6f8cd6ef71e56b2aca08664ca4ff3db6579...   \n",
       "fi_25466556_dev  8a47121d35e6f8cd6ef71e56b2aca08664ca4ff3db6579...   \n",
       "fi_25466557_dev  8a47121d35e6f8cd6ef71e56b2aca08664ca4ff3db6579...   \n",
       "fi_25468784_dev  8a47121d35e6f8cd6ef71e56b2aca08664ca4ff3db6579...   \n",
       "\n",
       "                                                              path  \\\n",
       "id                                                                   \n",
       "fi_22994737_dev  /Users/haily/Downloads/cv-corpus-7.0-2021-07-2...   \n",
       "fi_22994739_dev  /Users/haily/Downloads/cv-corpus-7.0-2021-07-2...   \n",
       "fi_22994740_dev  /Users/haily/Downloads/cv-corpus-7.0-2021-07-2...   \n",
       "fi_22994742_dev  /Users/haily/Downloads/cv-corpus-7.0-2021-07-2...   \n",
       "fi_22994798_dev  /Users/haily/Downloads/cv-corpus-7.0-2021-07-2...   \n",
       "...                                                            ...   \n",
       "fi_25466549_dev  /Users/haily/Downloads/cv-corpus-7.0-2021-07-2...   \n",
       "fi_25466554_dev  /Users/haily/Downloads/cv-corpus-7.0-2021-07-2...   \n",
       "fi_25466556_dev  /Users/haily/Downloads/cv-corpus-7.0-2021-07-2...   \n",
       "fi_25466557_dev  /Users/haily/Downloads/cv-corpus-7.0-2021-07-2...   \n",
       "fi_25468784_dev  /Users/haily/Downloads/cv-corpus-7.0-2021-07-2...   \n",
       "\n",
       "                                                          sentence lang split  \\\n",
       "id                                                                              \n",
       "fi_22994737_dev  Äänestämme nyt kvestoreiden arvojärjestyksestä...   fi   dev   \n",
       "fi_22994739_dev  Emme olleet vielä ehtineet toipua järkytyksest...   fi   dev   \n",
       "fi_22994740_dev  Äänestin mietinnön puolesta, koska köyhyyden p...   fi   dev   \n",
       "fi_22994742_dev                                     Yhä se huutaa.   fi   dev   \n",
       "fi_22994798_dev  Äänestämme mietinnön puolesta ja toivomme, ett...   fi   dev   \n",
       "...                                                            ...  ...   ...   \n",
       "fi_25466549_dev  Äänestämme myöhemmin tänään monista tällaisist...   fi   dev   \n",
       "fi_25466554_dev           Tällin jälkeen mies ei ollut moksiskaan.   fi   dev   \n",
       "fi_25466556_dev  Rikkaat, koko elämänsä työtä kartelleet, oliva...   fi   dev   \n",
       "fi_25466557_dev  Äänestin kollegoideni tavoin päätöslauselman n...   fi   dev   \n",
       "fi_25468784_dev                    Katsahdin sapelikäden suuntaan.   fi   dev   \n",
       "\n",
       "                target  \n",
       "id                      \n",
       "fi_22994737_dev      0  \n",
       "fi_22994739_dev      0  \n",
       "fi_22994740_dev      0  \n",
       "fi_22994742_dev      0  \n",
       "fi_22994798_dev      0  \n",
       "...                ...  \n",
       "fi_25466549_dev      0  \n",
       "fi_25466554_dev      0  \n",
       "fi_25466556_dev      0  \n",
       "fi_25466557_dev      0  \n",
       "fi_25468784_dev      0  \n",
       "\n",
       "[1493 rows x 6 columns]"
      ],
      "text/html": [
       "<div>\n",
       "<style scoped>\n",
       "    .dataframe tbody tr th:only-of-type {\n",
       "        vertical-align: middle;\n",
       "    }\n",
       "\n",
       "    .dataframe tbody tr th {\n",
       "        vertical-align: top;\n",
       "    }\n",
       "\n",
       "    .dataframe thead th {\n",
       "        text-align: right;\n",
       "    }\n",
       "</style>\n",
       "<table border=\"1\" class=\"dataframe\">\n",
       "  <thead>\n",
       "    <tr style=\"text-align: right;\">\n",
       "      <th></th>\n",
       "      <th>client_id</th>\n",
       "      <th>path</th>\n",
       "      <th>sentence</th>\n",
       "      <th>lang</th>\n",
       "      <th>split</th>\n",
       "      <th>target</th>\n",
       "    </tr>\n",
       "    <tr>\n",
       "      <th>id</th>\n",
       "      <th></th>\n",
       "      <th></th>\n",
       "      <th></th>\n",
       "      <th></th>\n",
       "      <th></th>\n",
       "      <th></th>\n",
       "    </tr>\n",
       "  </thead>\n",
       "  <tbody>\n",
       "    <tr>\n",
       "      <th>fi_22994737_dev</th>\n",
       "      <td>f6c374d6e4e004c91278cc96d760776b435fb9983e35a7...</td>\n",
       "      <td>/Users/haily/Downloads/cv-corpus-7.0-2021-07-2...</td>\n",
       "      <td>Äänestämme nyt kvestoreiden arvojärjestyksestä...</td>\n",
       "      <td>fi</td>\n",
       "      <td>dev</td>\n",
       "      <td>0</td>\n",
       "    </tr>\n",
       "    <tr>\n",
       "      <th>fi_22994739_dev</th>\n",
       "      <td>f6c374d6e4e004c91278cc96d760776b435fb9983e35a7...</td>\n",
       "      <td>/Users/haily/Downloads/cv-corpus-7.0-2021-07-2...</td>\n",
       "      <td>Emme olleet vielä ehtineet toipua järkytyksest...</td>\n",
       "      <td>fi</td>\n",
       "      <td>dev</td>\n",
       "      <td>0</td>\n",
       "    </tr>\n",
       "    <tr>\n",
       "      <th>fi_22994740_dev</th>\n",
       "      <td>f6c374d6e4e004c91278cc96d760776b435fb9983e35a7...</td>\n",
       "      <td>/Users/haily/Downloads/cv-corpus-7.0-2021-07-2...</td>\n",
       "      <td>Äänestin mietinnön puolesta, koska köyhyyden p...</td>\n",
       "      <td>fi</td>\n",
       "      <td>dev</td>\n",
       "      <td>0</td>\n",
       "    </tr>\n",
       "    <tr>\n",
       "      <th>fi_22994742_dev</th>\n",
       "      <td>f6c374d6e4e004c91278cc96d760776b435fb9983e35a7...</td>\n",
       "      <td>/Users/haily/Downloads/cv-corpus-7.0-2021-07-2...</td>\n",
       "      <td>Yhä se huutaa.</td>\n",
       "      <td>fi</td>\n",
       "      <td>dev</td>\n",
       "      <td>0</td>\n",
       "    </tr>\n",
       "    <tr>\n",
       "      <th>fi_22994798_dev</th>\n",
       "      <td>f6c374d6e4e004c91278cc96d760776b435fb9983e35a7...</td>\n",
       "      <td>/Users/haily/Downloads/cv-corpus-7.0-2021-07-2...</td>\n",
       "      <td>Äänestämme mietinnön puolesta ja toivomme, ett...</td>\n",
       "      <td>fi</td>\n",
       "      <td>dev</td>\n",
       "      <td>0</td>\n",
       "    </tr>\n",
       "    <tr>\n",
       "      <th>...</th>\n",
       "      <td>...</td>\n",
       "      <td>...</td>\n",
       "      <td>...</td>\n",
       "      <td>...</td>\n",
       "      <td>...</td>\n",
       "      <td>...</td>\n",
       "    </tr>\n",
       "    <tr>\n",
       "      <th>fi_25466549_dev</th>\n",
       "      <td>8a47121d35e6f8cd6ef71e56b2aca08664ca4ff3db6579...</td>\n",
       "      <td>/Users/haily/Downloads/cv-corpus-7.0-2021-07-2...</td>\n",
       "      <td>Äänestämme myöhemmin tänään monista tällaisist...</td>\n",
       "      <td>fi</td>\n",
       "      <td>dev</td>\n",
       "      <td>0</td>\n",
       "    </tr>\n",
       "    <tr>\n",
       "      <th>fi_25466554_dev</th>\n",
       "      <td>8a47121d35e6f8cd6ef71e56b2aca08664ca4ff3db6579...</td>\n",
       "      <td>/Users/haily/Downloads/cv-corpus-7.0-2021-07-2...</td>\n",
       "      <td>Tällin jälkeen mies ei ollut moksiskaan.</td>\n",
       "      <td>fi</td>\n",
       "      <td>dev</td>\n",
       "      <td>0</td>\n",
       "    </tr>\n",
       "    <tr>\n",
       "      <th>fi_25466556_dev</th>\n",
       "      <td>8a47121d35e6f8cd6ef71e56b2aca08664ca4ff3db6579...</td>\n",
       "      <td>/Users/haily/Downloads/cv-corpus-7.0-2021-07-2...</td>\n",
       "      <td>Rikkaat, koko elämänsä työtä kartelleet, oliva...</td>\n",
       "      <td>fi</td>\n",
       "      <td>dev</td>\n",
       "      <td>0</td>\n",
       "    </tr>\n",
       "    <tr>\n",
       "      <th>fi_25466557_dev</th>\n",
       "      <td>8a47121d35e6f8cd6ef71e56b2aca08664ca4ff3db6579...</td>\n",
       "      <td>/Users/haily/Downloads/cv-corpus-7.0-2021-07-2...</td>\n",
       "      <td>Äänestin kollegoideni tavoin päätöslauselman n...</td>\n",
       "      <td>fi</td>\n",
       "      <td>dev</td>\n",
       "      <td>0</td>\n",
       "    </tr>\n",
       "    <tr>\n",
       "      <th>fi_25468784_dev</th>\n",
       "      <td>8a47121d35e6f8cd6ef71e56b2aca08664ca4ff3db6579...</td>\n",
       "      <td>/Users/haily/Downloads/cv-corpus-7.0-2021-07-2...</td>\n",
       "      <td>Katsahdin sapelikäden suuntaan.</td>\n",
       "      <td>fi</td>\n",
       "      <td>dev</td>\n",
       "      <td>0</td>\n",
       "    </tr>\n",
       "  </tbody>\n",
       "</table>\n",
       "<p>1493 rows × 6 columns</p>\n",
       "</div>"
      ]
     },
     "metadata": {}
    },
    {
     "output_type": "display_data",
     "data": {
      "text/plain": [
       "<IPython.core.display.Markdown object>"
      ],
      "text/markdown": [
       "### test"
      ]
     },
     "metadata": {}
    },
    {
     "output_type": "display_data",
     "data": {
      "text/plain": [
       "                                                          client_id  \\\n",
       "id                                                                    \n",
       "fi_22996506_test  fb0d052dcb96d413197d7eb19d6b6c7d63d64f2f4d8d82...   \n",
       "fi_22996507_test  fb0d052dcb96d413197d7eb19d6b6c7d63d64f2f4d8d82...   \n",
       "fi_22996553_test  fb0d052dcb96d413197d7eb19d6b6c7d63d64f2f4d8d82...   \n",
       "fi_22996555_test  fb0d052dcb96d413197d7eb19d6b6c7d63d64f2f4d8d82...   \n",
       "fi_22996575_test  fb0d052dcb96d413197d7eb19d6b6c7d63d64f2f4d8d82...   \n",
       "...                                                             ...   \n",
       "fi_25812319_test  09d32b4e420e3e5231d0741310749d70ba5e9dcd71acde...   \n",
       "fi_25814463_test  09d32b4e420e3e5231d0741310749d70ba5e9dcd71acde...   \n",
       "fi_25838955_test  635303a7d1e2ea13318960e7d71fd39251278ed8c30a11...   \n",
       "fi_25885705_test  09d32b4e420e3e5231d0741310749d70ba5e9dcd71acde...   \n",
       "fi_25938262_test  09d32b4e420e3e5231d0741310749d70ba5e9dcd71acde...   \n",
       "\n",
       "                                                               path  \\\n",
       "id                                                                    \n",
       "fi_22996506_test  /Users/haily/Downloads/cv-corpus-7.0-2021-07-2...   \n",
       "fi_22996507_test  /Users/haily/Downloads/cv-corpus-7.0-2021-07-2...   \n",
       "fi_22996553_test  /Users/haily/Downloads/cv-corpus-7.0-2021-07-2...   \n",
       "fi_22996555_test  /Users/haily/Downloads/cv-corpus-7.0-2021-07-2...   \n",
       "fi_22996575_test  /Users/haily/Downloads/cv-corpus-7.0-2021-07-2...   \n",
       "...                                                             ...   \n",
       "fi_25812319_test  /Users/haily/Downloads/cv-corpus-7.0-2021-07-2...   \n",
       "fi_25814463_test  /Users/haily/Downloads/cv-corpus-7.0-2021-07-2...   \n",
       "fi_25838955_test  /Users/haily/Downloads/cv-corpus-7.0-2021-07-2...   \n",
       "fi_25885705_test  /Users/haily/Downloads/cv-corpus-7.0-2021-07-2...   \n",
       "fi_25938262_test  /Users/haily/Downloads/cv-corpus-7.0-2021-07-2...   \n",
       "\n",
       "                                                           sentence lang  \\\n",
       "id                                                                         \n",
       "fi_22996506_test  Silloin hänen pönkittynyt egonsa saisi hänet v...   fi   \n",
       "fi_22996507_test                   Hauki voi syödä suurenkin kalan.   fi   \n",
       "fi_22996553_test  Kaupungissa ei häntä tarpeeksi tunneta puodeissa.   fi   \n",
       "fi_22996555_test                              Ville oli ihmeissään.   fi   \n",
       "fi_22996575_test  Toivottavasti se juoksisi pakoon suolle päin j...   fi   \n",
       "...                                                             ...  ...   \n",
       "fi_25812319_test  Kokoontumisrajoituksia on tarpeen edelleen ase...   fi   \n",
       "fi_25814463_test  Myös ulkoharrastuspaikat avataan kokoontumisra...   fi   \n",
       "fi_25838955_test             Nyt en missään tapauksessa sinua auta.   fi   \n",
       "fi_25885705_test  Tuonne väistyy mökki mäenrinteineen lahden per...   fi   \n",
       "fi_25938262_test                                  Miksi ne ajoivat?   fi   \n",
       "\n",
       "                 split target  \n",
       "id                             \n",
       "fi_22996506_test  test      0  \n",
       "fi_22996507_test  test      0  \n",
       "fi_22996553_test  test      0  \n",
       "fi_22996555_test  test      0  \n",
       "fi_22996575_test  test      0  \n",
       "...                ...    ...  \n",
       "fi_25812319_test  test      0  \n",
       "fi_25814463_test  test      0  \n",
       "fi_25838955_test  test      0  \n",
       "fi_25885705_test  test      0  \n",
       "fi_25938262_test  test      0  \n",
       "\n",
       "[1599 rows x 6 columns]"
      ],
      "text/html": [
       "<div>\n",
       "<style scoped>\n",
       "    .dataframe tbody tr th:only-of-type {\n",
       "        vertical-align: middle;\n",
       "    }\n",
       "\n",
       "    .dataframe tbody tr th {\n",
       "        vertical-align: top;\n",
       "    }\n",
       "\n",
       "    .dataframe thead th {\n",
       "        text-align: right;\n",
       "    }\n",
       "</style>\n",
       "<table border=\"1\" class=\"dataframe\">\n",
       "  <thead>\n",
       "    <tr style=\"text-align: right;\">\n",
       "      <th></th>\n",
       "      <th>client_id</th>\n",
       "      <th>path</th>\n",
       "      <th>sentence</th>\n",
       "      <th>lang</th>\n",
       "      <th>split</th>\n",
       "      <th>target</th>\n",
       "    </tr>\n",
       "    <tr>\n",
       "      <th>id</th>\n",
       "      <th></th>\n",
       "      <th></th>\n",
       "      <th></th>\n",
       "      <th></th>\n",
       "      <th></th>\n",
       "      <th></th>\n",
       "    </tr>\n",
       "  </thead>\n",
       "  <tbody>\n",
       "    <tr>\n",
       "      <th>fi_22996506_test</th>\n",
       "      <td>fb0d052dcb96d413197d7eb19d6b6c7d63d64f2f4d8d82...</td>\n",
       "      <td>/Users/haily/Downloads/cv-corpus-7.0-2021-07-2...</td>\n",
       "      <td>Silloin hänen pönkittynyt egonsa saisi hänet v...</td>\n",
       "      <td>fi</td>\n",
       "      <td>test</td>\n",
       "      <td>0</td>\n",
       "    </tr>\n",
       "    <tr>\n",
       "      <th>fi_22996507_test</th>\n",
       "      <td>fb0d052dcb96d413197d7eb19d6b6c7d63d64f2f4d8d82...</td>\n",
       "      <td>/Users/haily/Downloads/cv-corpus-7.0-2021-07-2...</td>\n",
       "      <td>Hauki voi syödä suurenkin kalan.</td>\n",
       "      <td>fi</td>\n",
       "      <td>test</td>\n",
       "      <td>0</td>\n",
       "    </tr>\n",
       "    <tr>\n",
       "      <th>fi_22996553_test</th>\n",
       "      <td>fb0d052dcb96d413197d7eb19d6b6c7d63d64f2f4d8d82...</td>\n",
       "      <td>/Users/haily/Downloads/cv-corpus-7.0-2021-07-2...</td>\n",
       "      <td>Kaupungissa ei häntä tarpeeksi tunneta puodeissa.</td>\n",
       "      <td>fi</td>\n",
       "      <td>test</td>\n",
       "      <td>0</td>\n",
       "    </tr>\n",
       "    <tr>\n",
       "      <th>fi_22996555_test</th>\n",
       "      <td>fb0d052dcb96d413197d7eb19d6b6c7d63d64f2f4d8d82...</td>\n",
       "      <td>/Users/haily/Downloads/cv-corpus-7.0-2021-07-2...</td>\n",
       "      <td>Ville oli ihmeissään.</td>\n",
       "      <td>fi</td>\n",
       "      <td>test</td>\n",
       "      <td>0</td>\n",
       "    </tr>\n",
       "    <tr>\n",
       "      <th>fi_22996575_test</th>\n",
       "      <td>fb0d052dcb96d413197d7eb19d6b6c7d63d64f2f4d8d82...</td>\n",
       "      <td>/Users/haily/Downloads/cv-corpus-7.0-2021-07-2...</td>\n",
       "      <td>Toivottavasti se juoksisi pakoon suolle päin j...</td>\n",
       "      <td>fi</td>\n",
       "      <td>test</td>\n",
       "      <td>0</td>\n",
       "    </tr>\n",
       "    <tr>\n",
       "      <th>...</th>\n",
       "      <td>...</td>\n",
       "      <td>...</td>\n",
       "      <td>...</td>\n",
       "      <td>...</td>\n",
       "      <td>...</td>\n",
       "      <td>...</td>\n",
       "    </tr>\n",
       "    <tr>\n",
       "      <th>fi_25812319_test</th>\n",
       "      <td>09d32b4e420e3e5231d0741310749d70ba5e9dcd71acde...</td>\n",
       "      <td>/Users/haily/Downloads/cv-corpus-7.0-2021-07-2...</td>\n",
       "      <td>Kokoontumisrajoituksia on tarpeen edelleen ase...</td>\n",
       "      <td>fi</td>\n",
       "      <td>test</td>\n",
       "      <td>0</td>\n",
       "    </tr>\n",
       "    <tr>\n",
       "      <th>fi_25814463_test</th>\n",
       "      <td>09d32b4e420e3e5231d0741310749d70ba5e9dcd71acde...</td>\n",
       "      <td>/Users/haily/Downloads/cv-corpus-7.0-2021-07-2...</td>\n",
       "      <td>Myös ulkoharrastuspaikat avataan kokoontumisra...</td>\n",
       "      <td>fi</td>\n",
       "      <td>test</td>\n",
       "      <td>0</td>\n",
       "    </tr>\n",
       "    <tr>\n",
       "      <th>fi_25838955_test</th>\n",
       "      <td>635303a7d1e2ea13318960e7d71fd39251278ed8c30a11...</td>\n",
       "      <td>/Users/haily/Downloads/cv-corpus-7.0-2021-07-2...</td>\n",
       "      <td>Nyt en missään tapauksessa sinua auta.</td>\n",
       "      <td>fi</td>\n",
       "      <td>test</td>\n",
       "      <td>0</td>\n",
       "    </tr>\n",
       "    <tr>\n",
       "      <th>fi_25885705_test</th>\n",
       "      <td>09d32b4e420e3e5231d0741310749d70ba5e9dcd71acde...</td>\n",
       "      <td>/Users/haily/Downloads/cv-corpus-7.0-2021-07-2...</td>\n",
       "      <td>Tuonne väistyy mökki mäenrinteineen lahden per...</td>\n",
       "      <td>fi</td>\n",
       "      <td>test</td>\n",
       "      <td>0</td>\n",
       "    </tr>\n",
       "    <tr>\n",
       "      <th>fi_25938262_test</th>\n",
       "      <td>09d32b4e420e3e5231d0741310749d70ba5e9dcd71acde...</td>\n",
       "      <td>/Users/haily/Downloads/cv-corpus-7.0-2021-07-2...</td>\n",
       "      <td>Miksi ne ajoivat?</td>\n",
       "      <td>fi</td>\n",
       "      <td>test</td>\n",
       "      <td>0</td>\n",
       "    </tr>\n",
       "  </tbody>\n",
       "</table>\n",
       "<p>1599 rows × 6 columns</p>\n",
       "</div>"
      ]
     },
     "metadata": {}
    }
   ],
   "metadata": {
    "scrolled": false
   }
  },
  {
   "cell_type": "markdown",
   "source": [
    "### Checking that all splits are disjoint by speaker\n",
    "\n",
    "To ensure our neural network will learn what language is being spoken and not who is speaking, we want to test it on data that does not have any voices present in the training data.\n",
    "The `client_id` should correspond to a unique, pseudonymized identifier for every speaker.\n",
    "\n",
    "Lets check all splits are disjoint by speaker id."
   ],
   "metadata": {}
  },
  {
   "cell_type": "code",
   "execution_count": 43,
   "source": [
    "def assert_splits_disjoint_by_speaker(meta):\n",
    "    split2spk = {split: set(meta[meta[\"split\"]==split].client_id.to_numpy())\n",
    "                 for split in split_names}\n",
    "\n",
    "    for split, spk in split2spk.items():\n",
    "        print(\"split {} has {} speakers\".format(split, len(spk)))\n",
    "\n",
    "    print()\n",
    "    print(\"asserting all are disjoint\")\n",
    "    assert split2spk[\"train\"] & split2spk[\"test\"] == set(), \"train and test, mutual speakers\"\n",
    "    assert split2spk[\"train\"] & split2spk[\"dev\"]  == set(), \"train and dev, mutual speakers\"\n",
    "    assert split2spk[\"dev\"]   & split2spk[\"test\"] == set(), \"dev and test, mutual speakers\"\n",
    "    print(\"ok\")\n",
    "\n",
    "\n",
    "assert_splits_disjoint_by_speaker(meta)"
   ],
   "outputs": [
    {
     "output_type": "stream",
     "name": "stdout",
     "text": [
      "split train has 3 speakers\n",
      "split dev has 10 speakers\n",
      "split test has 91 speakers\n",
      "\n",
      "asserting all are disjoint\n",
      "ok\n"
     ]
    }
   ],
   "metadata": {}
  },
  {
   "cell_type": "markdown",
   "source": [
    "We can see that none of the speakers are in two or more dataset splits.\n",
    "We also see that the test set has a lot of unique speakers who are not in the training set.\n",
    "This is good because we want to test that our neural network classifier knows how to classify input from unknown speakers.\n",
    "\n",
    "### Checking that all audio files exist"
   ],
   "metadata": {}
  },
  {
   "cell_type": "code",
   "execution_count": 44,
   "source": [
    "for uttid, row in meta.iterrows():\n",
    "    assert os.path.exists(row[\"path\"]), row[\"path\"] + \" does not exist\"\n",
    "print(\"ok\")"
   ],
   "outputs": [
    {
     "output_type": "stream",
     "name": "stdout",
     "text": [
      "ok\n"
     ]
    }
   ],
   "metadata": {}
  },
  {
   "cell_type": "markdown",
   "source": [
    "## Balancing the language distribution\n",
    "\n",
    "Lets see how many samples we have per language."
   ],
   "metadata": {}
  },
  {
   "cell_type": "code",
   "execution_count": 54,
   "source": [
    "import seaborn as sns\n",
    "\n",
    "\n",
    "# sns.set(rc={'figure.figsize': (8, 6)})\n",
    "# ax = sns.countplot(\n",
    "#     x=\"split\",\n",
    "#     order=split_names,\n",
    "#     hue=\"lang\",\n",
    "#     hue_order=target2lang,\n",
    "#     data=meta)\n",
    "# ax.set_title(\"Total amount of audio samples\")\n",
    "# plt.show()"
   ],
   "outputs": [],
   "metadata": {
    "scrolled": false
   }
  },
  {
   "cell_type": "markdown",
   "source": [
    "We can see that the amount of samples with Mongolian, Tamil, and Turkish speech are quite balanced, but we have significantly larger amounts of Estonian speech.\n",
    "More data is of course always better, but if there is too much of one label compared to the others, our neural network might overfit on this label.\n",
    "\n",
    "But these are only the counts of audio files, how much speech do we have in total per language?\n",
    "We need to read every file to get a reliable answer.\n",
    "See also [SoX](http://sox.sourceforge.net/Main/HomePage) for a good command line tool."
   ],
   "metadata": {}
  },
  {
   "cell_type": "code",
   "execution_count": 46,
   "source": [
    "import miniaudio\n",
    "\n",
    "\n",
    "meta[\"duration\"] = np.array([\n",
    "    miniaudio.mp3_get_file_info(path).duration for path in meta.path], np.float32)\n",
    "meta"
   ],
   "outputs": [
    {
     "output_type": "execute_result",
     "data": {
      "text/plain": [
       "                                                           client_id  \\\n",
       "id                                                                     \n",
       "fi_22986631_train  4eeeb22a3bbb52e5215593a09a845f0f8c496e0a7c498c...   \n",
       "fi_22986632_train  4eeeb22a3bbb52e5215593a09a845f0f8c496e0a7c498c...   \n",
       "fi_22986633_train  4eeeb22a3bbb52e5215593a09a845f0f8c496e0a7c498c...   \n",
       "fi_22986634_train  4eeeb22a3bbb52e5215593a09a845f0f8c496e0a7c498c...   \n",
       "fi_22986635_train  4eeeb22a3bbb52e5215593a09a845f0f8c496e0a7c498c...   \n",
       "...                                                              ...   \n",
       "fi_25913820_train  cea18d12298f2bbae520713a1cfcf05e63b2b9470dcc0a...   \n",
       "fi_25938262_test   09d32b4e420e3e5231d0741310749d70ba5e9dcd71acde...   \n",
       "fi_25941268_train  cea18d12298f2bbae520713a1cfcf05e63b2b9470dcc0a...   \n",
       "fi_25948703_train  cea18d12298f2bbae520713a1cfcf05e63b2b9470dcc0a...   \n",
       "fi_26038413_train  cea18d12298f2bbae520713a1cfcf05e63b2b9470dcc0a...   \n",
       "\n",
       "                                                                path  \\\n",
       "id                                                                     \n",
       "fi_22986631_train  /Users/haily/Downloads/cv-corpus-7.0-2021-07-2...   \n",
       "fi_22986632_train  /Users/haily/Downloads/cv-corpus-7.0-2021-07-2...   \n",
       "fi_22986633_train  /Users/haily/Downloads/cv-corpus-7.0-2021-07-2...   \n",
       "fi_22986634_train  /Users/haily/Downloads/cv-corpus-7.0-2021-07-2...   \n",
       "fi_22986635_train  /Users/haily/Downloads/cv-corpus-7.0-2021-07-2...   \n",
       "...                                                              ...   \n",
       "fi_25913820_train  /Users/haily/Downloads/cv-corpus-7.0-2021-07-2...   \n",
       "fi_25938262_test   /Users/haily/Downloads/cv-corpus-7.0-2021-07-2...   \n",
       "fi_25941268_train  /Users/haily/Downloads/cv-corpus-7.0-2021-07-2...   \n",
       "fi_25948703_train  /Users/haily/Downloads/cv-corpus-7.0-2021-07-2...   \n",
       "fi_26038413_train  /Users/haily/Downloads/cv-corpus-7.0-2021-07-2...   \n",
       "\n",
       "                                                            sentence lang  \\\n",
       "id                                                                          \n",
       "fi_22986631_train                                Mitä nyt tekisimme?   fi   \n",
       "fi_22986632_train  Äänestämme tämän vuoksi toisin kuin maataloude...   fi   \n",
       "fi_22986633_train                          Rupeatko remmiin, vai et?   fi   \n",
       "fi_22986634_train            Äänestin näin ollen mietinnön puolesta.   fi   \n",
       "fi_22986635_train  Kiitos, että tulitte ja opetitte meille viisau...   fi   \n",
       "...                                                              ...  ...   \n",
       "fi_25913820_train                         Suomalainen on itsepäinen.   fi   \n",
       "fi_25938262_test                                   Miksi ne ajoivat?   fi   \n",
       "fi_25941268_train  Amsterdam päätti kansallisten hallitusten epäo...   fi   \n",
       "fi_25948703_train  Korkeatasoinen tutkimus ja opetus takaavat, et...   fi   \n",
       "fi_26038413_train             Enhän minä ollut tehnyt mitään väärää?   fi   \n",
       "\n",
       "                   split target  duration  \n",
       "id                                         \n",
       "fi_22986631_train  train      0     4.776  \n",
       "fi_22986632_train  train      0     6.264  \n",
       "fi_22986633_train  train      0     3.504  \n",
       "fi_22986634_train  train      0     4.344  \n",
       "fi_22986635_train  train      0     5.616  \n",
       "...                  ...    ...       ...  \n",
       "fi_25913820_train  train      0     3.564  \n",
       "fi_25938262_test    test      0     1.584  \n",
       "fi_25941268_train  train      0     5.076  \n",
       "fi_25948703_train  train      0     7.560  \n",
       "fi_26038413_train  train      0     3.456  \n",
       "\n",
       "[5226 rows x 7 columns]"
      ],
      "text/html": [
       "<div>\n",
       "<style scoped>\n",
       "    .dataframe tbody tr th:only-of-type {\n",
       "        vertical-align: middle;\n",
       "    }\n",
       "\n",
       "    .dataframe tbody tr th {\n",
       "        vertical-align: top;\n",
       "    }\n",
       "\n",
       "    .dataframe thead th {\n",
       "        text-align: right;\n",
       "    }\n",
       "</style>\n",
       "<table border=\"1\" class=\"dataframe\">\n",
       "  <thead>\n",
       "    <tr style=\"text-align: right;\">\n",
       "      <th></th>\n",
       "      <th>client_id</th>\n",
       "      <th>path</th>\n",
       "      <th>sentence</th>\n",
       "      <th>lang</th>\n",
       "      <th>split</th>\n",
       "      <th>target</th>\n",
       "      <th>duration</th>\n",
       "    </tr>\n",
       "    <tr>\n",
       "      <th>id</th>\n",
       "      <th></th>\n",
       "      <th></th>\n",
       "      <th></th>\n",
       "      <th></th>\n",
       "      <th></th>\n",
       "      <th></th>\n",
       "      <th></th>\n",
       "    </tr>\n",
       "  </thead>\n",
       "  <tbody>\n",
       "    <tr>\n",
       "      <th>fi_22986631_train</th>\n",
       "      <td>4eeeb22a3bbb52e5215593a09a845f0f8c496e0a7c498c...</td>\n",
       "      <td>/Users/haily/Downloads/cv-corpus-7.0-2021-07-2...</td>\n",
       "      <td>Mitä nyt tekisimme?</td>\n",
       "      <td>fi</td>\n",
       "      <td>train</td>\n",
       "      <td>0</td>\n",
       "      <td>4.776</td>\n",
       "    </tr>\n",
       "    <tr>\n",
       "      <th>fi_22986632_train</th>\n",
       "      <td>4eeeb22a3bbb52e5215593a09a845f0f8c496e0a7c498c...</td>\n",
       "      <td>/Users/haily/Downloads/cv-corpus-7.0-2021-07-2...</td>\n",
       "      <td>Äänestämme tämän vuoksi toisin kuin maataloude...</td>\n",
       "      <td>fi</td>\n",
       "      <td>train</td>\n",
       "      <td>0</td>\n",
       "      <td>6.264</td>\n",
       "    </tr>\n",
       "    <tr>\n",
       "      <th>fi_22986633_train</th>\n",
       "      <td>4eeeb22a3bbb52e5215593a09a845f0f8c496e0a7c498c...</td>\n",
       "      <td>/Users/haily/Downloads/cv-corpus-7.0-2021-07-2...</td>\n",
       "      <td>Rupeatko remmiin, vai et?</td>\n",
       "      <td>fi</td>\n",
       "      <td>train</td>\n",
       "      <td>0</td>\n",
       "      <td>3.504</td>\n",
       "    </tr>\n",
       "    <tr>\n",
       "      <th>fi_22986634_train</th>\n",
       "      <td>4eeeb22a3bbb52e5215593a09a845f0f8c496e0a7c498c...</td>\n",
       "      <td>/Users/haily/Downloads/cv-corpus-7.0-2021-07-2...</td>\n",
       "      <td>Äänestin näin ollen mietinnön puolesta.</td>\n",
       "      <td>fi</td>\n",
       "      <td>train</td>\n",
       "      <td>0</td>\n",
       "      <td>4.344</td>\n",
       "    </tr>\n",
       "    <tr>\n",
       "      <th>fi_22986635_train</th>\n",
       "      <td>4eeeb22a3bbb52e5215593a09a845f0f8c496e0a7c498c...</td>\n",
       "      <td>/Users/haily/Downloads/cv-corpus-7.0-2021-07-2...</td>\n",
       "      <td>Kiitos, että tulitte ja opetitte meille viisau...</td>\n",
       "      <td>fi</td>\n",
       "      <td>train</td>\n",
       "      <td>0</td>\n",
       "      <td>5.616</td>\n",
       "    </tr>\n",
       "    <tr>\n",
       "      <th>...</th>\n",
       "      <td>...</td>\n",
       "      <td>...</td>\n",
       "      <td>...</td>\n",
       "      <td>...</td>\n",
       "      <td>...</td>\n",
       "      <td>...</td>\n",
       "      <td>...</td>\n",
       "    </tr>\n",
       "    <tr>\n",
       "      <th>fi_25913820_train</th>\n",
       "      <td>cea18d12298f2bbae520713a1cfcf05e63b2b9470dcc0a...</td>\n",
       "      <td>/Users/haily/Downloads/cv-corpus-7.0-2021-07-2...</td>\n",
       "      <td>Suomalainen on itsepäinen.</td>\n",
       "      <td>fi</td>\n",
       "      <td>train</td>\n",
       "      <td>0</td>\n",
       "      <td>3.564</td>\n",
       "    </tr>\n",
       "    <tr>\n",
       "      <th>fi_25938262_test</th>\n",
       "      <td>09d32b4e420e3e5231d0741310749d70ba5e9dcd71acde...</td>\n",
       "      <td>/Users/haily/Downloads/cv-corpus-7.0-2021-07-2...</td>\n",
       "      <td>Miksi ne ajoivat?</td>\n",
       "      <td>fi</td>\n",
       "      <td>test</td>\n",
       "      <td>0</td>\n",
       "      <td>1.584</td>\n",
       "    </tr>\n",
       "    <tr>\n",
       "      <th>fi_25941268_train</th>\n",
       "      <td>cea18d12298f2bbae520713a1cfcf05e63b2b9470dcc0a...</td>\n",
       "      <td>/Users/haily/Downloads/cv-corpus-7.0-2021-07-2...</td>\n",
       "      <td>Amsterdam päätti kansallisten hallitusten epäo...</td>\n",
       "      <td>fi</td>\n",
       "      <td>train</td>\n",
       "      <td>0</td>\n",
       "      <td>5.076</td>\n",
       "    </tr>\n",
       "    <tr>\n",
       "      <th>fi_25948703_train</th>\n",
       "      <td>cea18d12298f2bbae520713a1cfcf05e63b2b9470dcc0a...</td>\n",
       "      <td>/Users/haily/Downloads/cv-corpus-7.0-2021-07-2...</td>\n",
       "      <td>Korkeatasoinen tutkimus ja opetus takaavat, et...</td>\n",
       "      <td>fi</td>\n",
       "      <td>train</td>\n",
       "      <td>0</td>\n",
       "      <td>7.560</td>\n",
       "    </tr>\n",
       "    <tr>\n",
       "      <th>fi_26038413_train</th>\n",
       "      <td>cea18d12298f2bbae520713a1cfcf05e63b2b9470dcc0a...</td>\n",
       "      <td>/Users/haily/Downloads/cv-corpus-7.0-2021-07-2...</td>\n",
       "      <td>Enhän minä ollut tehnyt mitään väärää?</td>\n",
       "      <td>fi</td>\n",
       "      <td>train</td>\n",
       "      <td>0</td>\n",
       "      <td>3.456</td>\n",
       "    </tr>\n",
       "  </tbody>\n",
       "</table>\n",
       "<p>5226 rows × 7 columns</p>\n",
       "</div>"
      ]
     },
     "metadata": {},
     "execution_count": 46
    }
   ],
   "metadata": {
    "scrolled": false
   }
  },
  {
   "cell_type": "code",
   "execution_count": 53,
   "source": [
    "def plot_duration_distribution(data):\n",
    "    sns.set(rc={'figure.figsize': (8, 6)})\n",
    "    \n",
    "    ax = sns.boxplot(\n",
    "        x=\"split\",\n",
    "        order=split_names,\n",
    "        y=\"duration\",\n",
    "        hue=\"lang\",\n",
    "        hue_order=target2lang,\n",
    "        data=data)\n",
    "    ax.set_title(\"Median audio file duration in seconds\")\n",
    "    plt.show()\n",
    "\n",
    "    ax = sns.barplot(\n",
    "        x=\"split\",\n",
    "        order=split_names,\n",
    "        y=\"duration\",\n",
    "        hue=\"lang\",\n",
    "        hue_order=target2lang,\n",
    "        data=data,\n",
    "        ci=None,\n",
    "        estimator=np.sum)\n",
    "    ax.set_title(\"Total amount of audio in seconds\")\n",
    "    plt.show()\n",
    "\n",
    "\n",
    "#plot_duration_distribution(meta)"
   ],
   "outputs": [],
   "metadata": {}
  },
  {
   "cell_type": "markdown",
   "source": [
    "The median length of Estonian samples is approx. 2.5 seconds greater compared to Turkish samples, which have the shortest median length.\n",
    "We can also see that the total amount of Estonian speech is much larger compared to other languages in our datasets.\n",
    "Notice also the significant amount of outliers with long durations in the Tamil and Turkish datasets.\n",
    "\n",
    "Lets do simple random oversampling for the training split using this approach:\n",
    "\n",
    "1. Select the target language according to maximum total amount of speech in seconds (Estonian).\n",
    "2. Compute differences in total durations between the target language and the three other languages.\n",
    "3. Compute median signal length by language.\n",
    "4. Compute sample sizes by dividing the duration deltas with median signal lengths, separately for each language.\n",
    "5. Draw samples with replacement from the metadata separately for each language.\n",
    "6. Merge samples with rest of the metadata and verify there are no duplicate ids."
   ],
   "metadata": {}
  },
  {
   "cell_type": "code",
   "execution_count": 55,
   "source": [
    "def random_oversampling(meta):\n",
    "    groupby_lang = meta[[\"lang\", \"duration\"]].groupby(\"lang\")\n",
    "    \n",
    "    total_dur = groupby_lang.sum()\n",
    "    target_lang = total_dur.idxmax()[0]\n",
    "    print(\"target lang:\", target_lang)\n",
    "    print(\"total durations:\")\n",
    "    display(total_dur)\n",
    "    \n",
    "    total_dur_delta = total_dur.loc[target_lang] - total_dur\n",
    "    print(\"total duration delta to target lang:\")\n",
    "    display(total_dur_delta)\n",
    "    \n",
    "    median_dur = groupby_lang.median()\n",
    "    print(\"median durations:\")\n",
    "    display(median_dur)\n",
    "    \n",
    "    sample_sizes = (total_dur_delta / median_dur).astype(np.int32)\n",
    "    print(\"median duration weighted sample sizes based on total duration differences:\")\n",
    "    display(sample_sizes)\n",
    "    \n",
    "    samples = []\n",
    "    \n",
    "    for lang in groupby_lang.groups:\n",
    "        sample_size = sample_sizes.loc[lang][0]\n",
    "        sample = (meta[meta[\"lang\"]==lang]\n",
    "                  .sample(n=sample_size, replace=True, random_state=np_rng.bit_generator)\n",
    "                  .reset_index()\n",
    "                  .transform(update_sample_id, axis=1))\n",
    "        samples.append(sample)\n",
    "\n",
    "    return pd.concat(samples).set_index(\"id\", drop=True, verify_integrity=True)\n",
    "\n",
    "\n",
    "def update_sample_id(row):\n",
    "    row[\"id\"] = \"{}_copy_{}\".format(row[\"id\"], row.name)\n",
    "    return row\n",
    "\n",
    "    \n",
    "# Augment training set metadata\n",
    "meta = pd.concat([random_oversampling(meta[meta[\"split\"]==\"train\"]), meta]).sort_index()\n",
    "\n",
    "assert not meta.isna().any(axis=None), \"NaNs in metadata after augmentation\"\n",
    "#plot_duration_distribution(meta)\n",
    "assert_splits_disjoint_by_speaker(meta)\n",
    "meta"
   ],
   "outputs": [
    {
     "output_type": "stream",
     "name": "stdout",
     "text": [
      "target lang: fi\n",
      "total durations:\n"
     ]
    },
    {
     "output_type": "display_data",
     "data": {
      "text/plain": [
       "         duration\n",
       "lang             \n",
       "fi    9757.007812"
      ],
      "text/html": [
       "<div>\n",
       "<style scoped>\n",
       "    .dataframe tbody tr th:only-of-type {\n",
       "        vertical-align: middle;\n",
       "    }\n",
       "\n",
       "    .dataframe tbody tr th {\n",
       "        vertical-align: top;\n",
       "    }\n",
       "\n",
       "    .dataframe thead th {\n",
       "        text-align: right;\n",
       "    }\n",
       "</style>\n",
       "<table border=\"1\" class=\"dataframe\">\n",
       "  <thead>\n",
       "    <tr style=\"text-align: right;\">\n",
       "      <th></th>\n",
       "      <th>duration</th>\n",
       "    </tr>\n",
       "    <tr>\n",
       "      <th>lang</th>\n",
       "      <th></th>\n",
       "    </tr>\n",
       "  </thead>\n",
       "  <tbody>\n",
       "    <tr>\n",
       "      <th>fi</th>\n",
       "      <td>9757.007812</td>\n",
       "    </tr>\n",
       "  </tbody>\n",
       "</table>\n",
       "</div>"
      ]
     },
     "metadata": {}
    },
    {
     "output_type": "stream",
     "name": "stdout",
     "text": [
      "total duration delta to target lang:\n"
     ]
    },
    {
     "output_type": "display_data",
     "data": {
      "text/plain": [
       "      duration\n",
       "lang          \n",
       "fi         0.0"
      ],
      "text/html": [
       "<div>\n",
       "<style scoped>\n",
       "    .dataframe tbody tr th:only-of-type {\n",
       "        vertical-align: middle;\n",
       "    }\n",
       "\n",
       "    .dataframe tbody tr th {\n",
       "        vertical-align: top;\n",
       "    }\n",
       "\n",
       "    .dataframe thead th {\n",
       "        text-align: right;\n",
       "    }\n",
       "</style>\n",
       "<table border=\"1\" class=\"dataframe\">\n",
       "  <thead>\n",
       "    <tr style=\"text-align: right;\">\n",
       "      <th></th>\n",
       "      <th>duration</th>\n",
       "    </tr>\n",
       "    <tr>\n",
       "      <th>lang</th>\n",
       "      <th></th>\n",
       "    </tr>\n",
       "  </thead>\n",
       "  <tbody>\n",
       "    <tr>\n",
       "      <th>fi</th>\n",
       "      <td>0.0</td>\n",
       "    </tr>\n",
       "  </tbody>\n",
       "</table>\n",
       "</div>"
      ]
     },
     "metadata": {}
    },
    {
     "output_type": "stream",
     "name": "stdout",
     "text": [
      "median durations:\n"
     ]
    },
    {
     "output_type": "display_data",
     "data": {
      "text/plain": [
       "      duration\n",
       "lang          \n",
       "fi       4.212"
      ],
      "text/html": [
       "<div>\n",
       "<style scoped>\n",
       "    .dataframe tbody tr th:only-of-type {\n",
       "        vertical-align: middle;\n",
       "    }\n",
       "\n",
       "    .dataframe tbody tr th {\n",
       "        vertical-align: top;\n",
       "    }\n",
       "\n",
       "    .dataframe thead th {\n",
       "        text-align: right;\n",
       "    }\n",
       "</style>\n",
       "<table border=\"1\" class=\"dataframe\">\n",
       "  <thead>\n",
       "    <tr style=\"text-align: right;\">\n",
       "      <th></th>\n",
       "      <th>duration</th>\n",
       "    </tr>\n",
       "    <tr>\n",
       "      <th>lang</th>\n",
       "      <th></th>\n",
       "    </tr>\n",
       "  </thead>\n",
       "  <tbody>\n",
       "    <tr>\n",
       "      <th>fi</th>\n",
       "      <td>4.212</td>\n",
       "    </tr>\n",
       "  </tbody>\n",
       "</table>\n",
       "</div>"
      ]
     },
     "metadata": {}
    },
    {
     "output_type": "stream",
     "name": "stdout",
     "text": [
      "median duration weighted sample sizes based on total duration differences:\n"
     ]
    },
    {
     "output_type": "display_data",
     "data": {
      "text/plain": [
       "      duration\n",
       "lang          \n",
       "fi           0"
      ],
      "text/html": [
       "<div>\n",
       "<style scoped>\n",
       "    .dataframe tbody tr th:only-of-type {\n",
       "        vertical-align: middle;\n",
       "    }\n",
       "\n",
       "    .dataframe tbody tr th {\n",
       "        vertical-align: top;\n",
       "    }\n",
       "\n",
       "    .dataframe thead th {\n",
       "        text-align: right;\n",
       "    }\n",
       "</style>\n",
       "<table border=\"1\" class=\"dataframe\">\n",
       "  <thead>\n",
       "    <tr style=\"text-align: right;\">\n",
       "      <th></th>\n",
       "      <th>duration</th>\n",
       "    </tr>\n",
       "    <tr>\n",
       "      <th>lang</th>\n",
       "      <th></th>\n",
       "    </tr>\n",
       "  </thead>\n",
       "  <tbody>\n",
       "    <tr>\n",
       "      <th>fi</th>\n",
       "      <td>0</td>\n",
       "    </tr>\n",
       "  </tbody>\n",
       "</table>\n",
       "</div>"
      ]
     },
     "metadata": {}
    },
    {
     "output_type": "stream",
     "name": "stdout",
     "text": [
      "split train has 3 speakers\n",
      "split dev has 10 speakers\n",
      "split test has 91 speakers\n",
      "\n",
      "asserting all are disjoint\n",
      "ok\n"
     ]
    },
    {
     "output_type": "execute_result",
     "data": {
      "text/plain": [
       "                                                           client_id  \\\n",
       "id                                                                     \n",
       "fi_22986631_train  4eeeb22a3bbb52e5215593a09a845f0f8c496e0a7c498c...   \n",
       "fi_22986632_train  4eeeb22a3bbb52e5215593a09a845f0f8c496e0a7c498c...   \n",
       "fi_22986633_train  4eeeb22a3bbb52e5215593a09a845f0f8c496e0a7c498c...   \n",
       "fi_22986634_train  4eeeb22a3bbb52e5215593a09a845f0f8c496e0a7c498c...   \n",
       "fi_22986635_train  4eeeb22a3bbb52e5215593a09a845f0f8c496e0a7c498c...   \n",
       "...                                                              ...   \n",
       "fi_25913820_train  cea18d12298f2bbae520713a1cfcf05e63b2b9470dcc0a...   \n",
       "fi_25938262_test   09d32b4e420e3e5231d0741310749d70ba5e9dcd71acde...   \n",
       "fi_25941268_train  cea18d12298f2bbae520713a1cfcf05e63b2b9470dcc0a...   \n",
       "fi_25948703_train  cea18d12298f2bbae520713a1cfcf05e63b2b9470dcc0a...   \n",
       "fi_26038413_train  cea18d12298f2bbae520713a1cfcf05e63b2b9470dcc0a...   \n",
       "\n",
       "                                                                path  \\\n",
       "id                                                                     \n",
       "fi_22986631_train  /Users/haily/Downloads/cv-corpus-7.0-2021-07-2...   \n",
       "fi_22986632_train  /Users/haily/Downloads/cv-corpus-7.0-2021-07-2...   \n",
       "fi_22986633_train  /Users/haily/Downloads/cv-corpus-7.0-2021-07-2...   \n",
       "fi_22986634_train  /Users/haily/Downloads/cv-corpus-7.0-2021-07-2...   \n",
       "fi_22986635_train  /Users/haily/Downloads/cv-corpus-7.0-2021-07-2...   \n",
       "...                                                              ...   \n",
       "fi_25913820_train  /Users/haily/Downloads/cv-corpus-7.0-2021-07-2...   \n",
       "fi_25938262_test   /Users/haily/Downloads/cv-corpus-7.0-2021-07-2...   \n",
       "fi_25941268_train  /Users/haily/Downloads/cv-corpus-7.0-2021-07-2...   \n",
       "fi_25948703_train  /Users/haily/Downloads/cv-corpus-7.0-2021-07-2...   \n",
       "fi_26038413_train  /Users/haily/Downloads/cv-corpus-7.0-2021-07-2...   \n",
       "\n",
       "                                                            sentence lang  \\\n",
       "id                                                                          \n",
       "fi_22986631_train                                Mitä nyt tekisimme?   fi   \n",
       "fi_22986632_train  Äänestämme tämän vuoksi toisin kuin maataloude...   fi   \n",
       "fi_22986633_train                          Rupeatko remmiin, vai et?   fi   \n",
       "fi_22986634_train            Äänestin näin ollen mietinnön puolesta.   fi   \n",
       "fi_22986635_train  Kiitos, että tulitte ja opetitte meille viisau...   fi   \n",
       "...                                                              ...  ...   \n",
       "fi_25913820_train                         Suomalainen on itsepäinen.   fi   \n",
       "fi_25938262_test                                   Miksi ne ajoivat?   fi   \n",
       "fi_25941268_train  Amsterdam päätti kansallisten hallitusten epäo...   fi   \n",
       "fi_25948703_train  Korkeatasoinen tutkimus ja opetus takaavat, et...   fi   \n",
       "fi_26038413_train             Enhän minä ollut tehnyt mitään väärää?   fi   \n",
       "\n",
       "                   split target  duration  \n",
       "id                                         \n",
       "fi_22986631_train  train      0     4.776  \n",
       "fi_22986632_train  train      0     6.264  \n",
       "fi_22986633_train  train      0     3.504  \n",
       "fi_22986634_train  train      0     4.344  \n",
       "fi_22986635_train  train      0     5.616  \n",
       "...                  ...    ...       ...  \n",
       "fi_25913820_train  train      0     3.564  \n",
       "fi_25938262_test    test      0     1.584  \n",
       "fi_25941268_train  train      0     5.076  \n",
       "fi_25948703_train  train      0     7.560  \n",
       "fi_26038413_train  train      0     3.456  \n",
       "\n",
       "[5226 rows x 7 columns]"
      ],
      "text/html": [
       "<div>\n",
       "<style scoped>\n",
       "    .dataframe tbody tr th:only-of-type {\n",
       "        vertical-align: middle;\n",
       "    }\n",
       "\n",
       "    .dataframe tbody tr th {\n",
       "        vertical-align: top;\n",
       "    }\n",
       "\n",
       "    .dataframe thead th {\n",
       "        text-align: right;\n",
       "    }\n",
       "</style>\n",
       "<table border=\"1\" class=\"dataframe\">\n",
       "  <thead>\n",
       "    <tr style=\"text-align: right;\">\n",
       "      <th></th>\n",
       "      <th>client_id</th>\n",
       "      <th>path</th>\n",
       "      <th>sentence</th>\n",
       "      <th>lang</th>\n",
       "      <th>split</th>\n",
       "      <th>target</th>\n",
       "      <th>duration</th>\n",
       "    </tr>\n",
       "    <tr>\n",
       "      <th>id</th>\n",
       "      <th></th>\n",
       "      <th></th>\n",
       "      <th></th>\n",
       "      <th></th>\n",
       "      <th></th>\n",
       "      <th></th>\n",
       "      <th></th>\n",
       "    </tr>\n",
       "  </thead>\n",
       "  <tbody>\n",
       "    <tr>\n",
       "      <th>fi_22986631_train</th>\n",
       "      <td>4eeeb22a3bbb52e5215593a09a845f0f8c496e0a7c498c...</td>\n",
       "      <td>/Users/haily/Downloads/cv-corpus-7.0-2021-07-2...</td>\n",
       "      <td>Mitä nyt tekisimme?</td>\n",
       "      <td>fi</td>\n",
       "      <td>train</td>\n",
       "      <td>0</td>\n",
       "      <td>4.776</td>\n",
       "    </tr>\n",
       "    <tr>\n",
       "      <th>fi_22986632_train</th>\n",
       "      <td>4eeeb22a3bbb52e5215593a09a845f0f8c496e0a7c498c...</td>\n",
       "      <td>/Users/haily/Downloads/cv-corpus-7.0-2021-07-2...</td>\n",
       "      <td>Äänestämme tämän vuoksi toisin kuin maataloude...</td>\n",
       "      <td>fi</td>\n",
       "      <td>train</td>\n",
       "      <td>0</td>\n",
       "      <td>6.264</td>\n",
       "    </tr>\n",
       "    <tr>\n",
       "      <th>fi_22986633_train</th>\n",
       "      <td>4eeeb22a3bbb52e5215593a09a845f0f8c496e0a7c498c...</td>\n",
       "      <td>/Users/haily/Downloads/cv-corpus-7.0-2021-07-2...</td>\n",
       "      <td>Rupeatko remmiin, vai et?</td>\n",
       "      <td>fi</td>\n",
       "      <td>train</td>\n",
       "      <td>0</td>\n",
       "      <td>3.504</td>\n",
       "    </tr>\n",
       "    <tr>\n",
       "      <th>fi_22986634_train</th>\n",
       "      <td>4eeeb22a3bbb52e5215593a09a845f0f8c496e0a7c498c...</td>\n",
       "      <td>/Users/haily/Downloads/cv-corpus-7.0-2021-07-2...</td>\n",
       "      <td>Äänestin näin ollen mietinnön puolesta.</td>\n",
       "      <td>fi</td>\n",
       "      <td>train</td>\n",
       "      <td>0</td>\n",
       "      <td>4.344</td>\n",
       "    </tr>\n",
       "    <tr>\n",
       "      <th>fi_22986635_train</th>\n",
       "      <td>4eeeb22a3bbb52e5215593a09a845f0f8c496e0a7c498c...</td>\n",
       "      <td>/Users/haily/Downloads/cv-corpus-7.0-2021-07-2...</td>\n",
       "      <td>Kiitos, että tulitte ja opetitte meille viisau...</td>\n",
       "      <td>fi</td>\n",
       "      <td>train</td>\n",
       "      <td>0</td>\n",
       "      <td>5.616</td>\n",
       "    </tr>\n",
       "    <tr>\n",
       "      <th>...</th>\n",
       "      <td>...</td>\n",
       "      <td>...</td>\n",
       "      <td>...</td>\n",
       "      <td>...</td>\n",
       "      <td>...</td>\n",
       "      <td>...</td>\n",
       "      <td>...</td>\n",
       "    </tr>\n",
       "    <tr>\n",
       "      <th>fi_25913820_train</th>\n",
       "      <td>cea18d12298f2bbae520713a1cfcf05e63b2b9470dcc0a...</td>\n",
       "      <td>/Users/haily/Downloads/cv-corpus-7.0-2021-07-2...</td>\n",
       "      <td>Suomalainen on itsepäinen.</td>\n",
       "      <td>fi</td>\n",
       "      <td>train</td>\n",
       "      <td>0</td>\n",
       "      <td>3.564</td>\n",
       "    </tr>\n",
       "    <tr>\n",
       "      <th>fi_25938262_test</th>\n",
       "      <td>09d32b4e420e3e5231d0741310749d70ba5e9dcd71acde...</td>\n",
       "      <td>/Users/haily/Downloads/cv-corpus-7.0-2021-07-2...</td>\n",
       "      <td>Miksi ne ajoivat?</td>\n",
       "      <td>fi</td>\n",
       "      <td>test</td>\n",
       "      <td>0</td>\n",
       "      <td>1.584</td>\n",
       "    </tr>\n",
       "    <tr>\n",
       "      <th>fi_25941268_train</th>\n",
       "      <td>cea18d12298f2bbae520713a1cfcf05e63b2b9470dcc0a...</td>\n",
       "      <td>/Users/haily/Downloads/cv-corpus-7.0-2021-07-2...</td>\n",
       "      <td>Amsterdam päätti kansallisten hallitusten epäo...</td>\n",
       "      <td>fi</td>\n",
       "      <td>train</td>\n",
       "      <td>0</td>\n",
       "      <td>5.076</td>\n",
       "    </tr>\n",
       "    <tr>\n",
       "      <th>fi_25948703_train</th>\n",
       "      <td>cea18d12298f2bbae520713a1cfcf05e63b2b9470dcc0a...</td>\n",
       "      <td>/Users/haily/Downloads/cv-corpus-7.0-2021-07-2...</td>\n",
       "      <td>Korkeatasoinen tutkimus ja opetus takaavat, et...</td>\n",
       "      <td>fi</td>\n",
       "      <td>train</td>\n",
       "      <td>0</td>\n",
       "      <td>7.560</td>\n",
       "    </tr>\n",
       "    <tr>\n",
       "      <th>fi_26038413_train</th>\n",
       "      <td>cea18d12298f2bbae520713a1cfcf05e63b2b9470dcc0a...</td>\n",
       "      <td>/Users/haily/Downloads/cv-corpus-7.0-2021-07-2...</td>\n",
       "      <td>Enhän minä ollut tehnyt mitään väärää?</td>\n",
       "      <td>fi</td>\n",
       "      <td>train</td>\n",
       "      <td>0</td>\n",
       "      <td>3.456</td>\n",
       "    </tr>\n",
       "  </tbody>\n",
       "</table>\n",
       "<p>5226 rows × 7 columns</p>\n",
       "</div>"
      ]
     },
     "metadata": {},
     "execution_count": 55
    }
   ],
   "metadata": {
    "scrolled": false
   }
  },
  {
   "cell_type": "markdown",
   "source": [
    "Speech data augmentation is a common research topic.\n",
    "There are [better](https://www.isca-speech.org/archive/interspeech_2015/papers/i15_3586.pdf) ways to augment data than the simple duplication of metadata rows we did here.\n",
    "One approach (which we won't be doing here) which is easy to implement and might work well is to take copies of signals and make them randomly a bit faster or slower.\n",
    "For example, draw randomly speed ratios from `[0.9, 1.1]` and resample the signal by multiplying its sample rate with the random ratio."
   ],
   "metadata": {}
  },
  {
   "cell_type": "markdown",
   "source": [
    "## Inspecting the audio\n",
    "\n",
    "Lets take a look at the speech data and listen to a few randomly picked samples from each label.\n",
    "We pick 2 random samples for each language from the training set."
   ],
   "metadata": {}
  },
  {
   "cell_type": "code",
   "execution_count": 49,
   "source": [
    "samples = (meta[meta[\"split\"]==\"train\"]\n",
    "           .groupby(\"lang\")\n",
    "           .sample(n=2, random_state=np_rng.bit_generator))\n",
    "samples"
   ],
   "outputs": [
    {
     "output_type": "execute_result",
     "data": {
      "text/plain": [
       "                                                           client_id  \\\n",
       "id                                                                     \n",
       "fi_25263300_train  31926f462f259114ba8596c4814ed1df0e43021720bc7b...   \n",
       "fi_25335195_train  31926f462f259114ba8596c4814ed1df0e43021720bc7b...   \n",
       "\n",
       "                                                                path  \\\n",
       "id                                                                     \n",
       "fi_25263300_train  /Users/haily/Downloads/cv-corpus-7.0-2021-07-2...   \n",
       "fi_25335195_train  /Users/haily/Downloads/cv-corpus-7.0-2021-07-2...   \n",
       "\n",
       "                                                            sentence lang  \\\n",
       "id                                                                          \n",
       "fi_25263300_train          Ei, hiljaa oli Topi ystäväänsä huudellut.   fi   \n",
       "fi_25335195_train  Oranssin ympyrän reunasta reunaan meni musta k...   fi   \n",
       "\n",
       "                   split target  duration  \n",
       "id                                         \n",
       "fi_25263300_train  train      0     4.320  \n",
       "fi_25335195_train  train      0     4.788  "
      ],
      "text/html": [
       "<div>\n",
       "<style scoped>\n",
       "    .dataframe tbody tr th:only-of-type {\n",
       "        vertical-align: middle;\n",
       "    }\n",
       "\n",
       "    .dataframe tbody tr th {\n",
       "        vertical-align: top;\n",
       "    }\n",
       "\n",
       "    .dataframe thead th {\n",
       "        text-align: right;\n",
       "    }\n",
       "</style>\n",
       "<table border=\"1\" class=\"dataframe\">\n",
       "  <thead>\n",
       "    <tr style=\"text-align: right;\">\n",
       "      <th></th>\n",
       "      <th>client_id</th>\n",
       "      <th>path</th>\n",
       "      <th>sentence</th>\n",
       "      <th>lang</th>\n",
       "      <th>split</th>\n",
       "      <th>target</th>\n",
       "      <th>duration</th>\n",
       "    </tr>\n",
       "    <tr>\n",
       "      <th>id</th>\n",
       "      <th></th>\n",
       "      <th></th>\n",
       "      <th></th>\n",
       "      <th></th>\n",
       "      <th></th>\n",
       "      <th></th>\n",
       "      <th></th>\n",
       "    </tr>\n",
       "  </thead>\n",
       "  <tbody>\n",
       "    <tr>\n",
       "      <th>fi_25263300_train</th>\n",
       "      <td>31926f462f259114ba8596c4814ed1df0e43021720bc7b...</td>\n",
       "      <td>/Users/haily/Downloads/cv-corpus-7.0-2021-07-2...</td>\n",
       "      <td>Ei, hiljaa oli Topi ystäväänsä huudellut.</td>\n",
       "      <td>fi</td>\n",
       "      <td>train</td>\n",
       "      <td>0</td>\n",
       "      <td>4.320</td>\n",
       "    </tr>\n",
       "    <tr>\n",
       "      <th>fi_25335195_train</th>\n",
       "      <td>31926f462f259114ba8596c4814ed1df0e43021720bc7b...</td>\n",
       "      <td>/Users/haily/Downloads/cv-corpus-7.0-2021-07-2...</td>\n",
       "      <td>Oranssin ympyrän reunasta reunaan meni musta k...</td>\n",
       "      <td>fi</td>\n",
       "      <td>train</td>\n",
       "      <td>0</td>\n",
       "      <td>4.788</td>\n",
       "    </tr>\n",
       "  </tbody>\n",
       "</table>\n",
       "</div>"
      ]
     },
     "metadata": {},
     "execution_count": 49
    }
   ],
   "metadata": {
    "scrolled": false
   }
  },
  {
   "cell_type": "markdown",
   "source": [
    "Then lets read the mp3-files from disk, plot the signals, and listen to the audio."
   ],
   "metadata": {}
  },
  {
   "cell_type": "code",
   "execution_count": 56,
   "source": [
    "from IPython.display import display, Audio, HTML\n",
    "import scipy.signal\n",
    "\n",
    "\n",
    "def read_mp3(path, resample_rate=16000):\n",
    "    if isinstance(path, bytes):\n",
    "        # If path is a tf.string tensor, it will be in bytes\n",
    "        path = path.decode(\"utf-8\")\n",
    "        \n",
    "    f = miniaudio.mp3_read_file_f32(path)\n",
    "    \n",
    "    # Downsample to target rate, 16 kHz is commonly used for speech data\n",
    "    new_len = round(len(f.samples) * float(resample_rate) / f.sample_rate)\n",
    "    signal = scipy.signal.resample(f.samples, new_len)\n",
    "    \n",
    "    # Normalize to [-1, 1]\n",
    "    signal /= np.abs(signal).max()\n",
    "    \n",
    "    return signal, resample_rate\n",
    "\n",
    "\n",
    "def embed_audio(signal, rate):\n",
    "    display(Audio(data=signal, rate=rate, embed=True, normalize=False))\n",
    "\n",
    "    \n",
    "def plot_signal(data, figsize=(6, 0.5), **kwargs):\n",
    "    ax = sns.lineplot(data=data, lw=0.1, **kwargs)\n",
    "    ax.set_axis_off()\n",
    "    ax.margins(0)\n",
    "    plt.gcf().set_size_inches(*figsize)\n",
    "    plt.show()\n",
    "\n",
    "    \n",
    "def plot_separator():\n",
    "    display(HTML(data=\"<hr style='border: 2px solid'>\"))\n",
    "\n",
    "    \n",
    "# for sentence, lang, clip_path in samples[[\"sentence\", \"lang\", \"path\"]].to_numpy():\n",
    "#     signal, rate = read_mp3(clip_path)\n",
    "#     plot_signal(signal)\n",
    "#     print(\"length: {} sec\".format(signal.size / rate))\n",
    "#     print(\"lang:\", lang)\n",
    "#     print(\"sentence:\", sentence)\n",
    "#     embed_audio(signal, rate)\n",
    "#     plot_separator()"
   ],
   "outputs": [],
   "metadata": {
    "scrolled": false
   }
  },
  {
   "cell_type": "markdown",
   "source": [
    "One of the most challenging aspects of the Mozilla Common Voice dataset is that the audio quality varies greatly: different microphones, background noise, user is speaking close to the device or far away etc.\n",
    "It is difficult to ensure that a neural network will learn to classify different languages as opposed to classifying distinct acoustic artefacts from specific microphones.\n",
    "There's a [vast amount of research](https://www.isca-speech.org/archive/Interspeech_2020/) being done on developing techniques for solving these kind of problems.\n",
    "However, these are well out of scope for this simple example and we won't be studying them here.\n",
    "\n",
    "\n",
    "## Spectral representations\n",
    "\n",
    "It is usually not possible (at least not yet in 2020) to detect languages directly from the waveform.\n",
    "Instead, the [fast Fourier transform](https://en.wikipedia.org/wiki/Short-time_Fourier_transform) (FFT) is applied on small, overlapping windows of the signal to get a 2-dimensional representation of energies in different frequency bands.\n",
    "See [this](https://wiki.aalto.fi/display/ITSP/Spectrogram+and+the+STFT) for further details.\n",
    "\n",
    "However, output from the FFT is usually not usable directly and must be refined.\n",
    "Lets begin by selecting the first signal from our random sample and extract the power spectrogram.\n",
    "\n",
    "### Power spectrogram"
   ],
   "metadata": {}
  },
  {
   "cell_type": "code",
   "execution_count": 57,
   "source": [
    "from lidbox.features.audio import spectrograms\n",
    "\n",
    "\n",
    "def plot_spectrogram(S, cmap=\"viridis\", figsize=None, **kwargs):\n",
    "    if figsize is None:\n",
    "        figsize = S.shape[0]/50, S.shape[1]/50\n",
    "    ax = sns.heatmap(S.T, cbar=False, cmap=cmap, **kwargs)\n",
    "    ax.invert_yaxis()\n",
    "    ax.set_axis_off()\n",
    "    ax.margins(0)\n",
    "    plt.gcf().set_size_inches(*figsize)\n",
    "    plt.show()\n",
    "\n",
    "    \n",
    "sample = samples[[\"sentence\", \"lang\", \"path\"]].to_numpy()[0]\n",
    "sentence, lang, clip_path = sample\n",
    "\n",
    "signal, rate = read_mp3(clip_path)\n",
    "# plot_signal(signal)\n",
    "\n",
    "powspec = spectrograms([signal], rate)[0]\n",
    "\n",
    "# plot_spectrogram(powspec.numpy())"
   ],
   "outputs": [],
   "metadata": {
    "scrolled": false
   }
  },
  {
   "cell_type": "markdown",
   "source": [
    "This representation is very sparse, with zeros everywhere except in the lowest frequency bands.\n",
    "The main problem here is that relative differences between energy values are very large, making it different to compare large changes in energy.\n",
    "These differences can be reduced by mapping the values onto a logarithmic scale.\n",
    "\n",
    "The [decibel-scale](https://en.wikipedia.org/wiki/Decibel) is a common choice.\n",
    "We will use the maximum value of `powspec` as the reference power ($\\text{P}_0$).\n",
    "\n",
    "### Decibel-scale spectrogram"
   ],
   "metadata": {}
  },
  {
   "cell_type": "code",
   "execution_count": 60,
   "source": [],
   "outputs": [
    {
     "output_type": "execute_result",
     "data": {
      "text/plain": [
       "16000"
      ]
     },
     "metadata": {},
     "execution_count": 60
    }
   ],
   "metadata": {}
  },
  {
   "cell_type": "code",
   "execution_count": 58,
   "source": [
    "from lidbox.features.audio import power_to_db\n",
    "\n",
    "\n",
    "#dbspec = power_to_db([powspec])[0]\n",
    "#plot_spectrogram(dbspec.numpy())"
   ],
   "outputs": [],
   "metadata": {
    "scrolled": false
   }
  },
  {
   "cell_type": "markdown",
   "source": [
    "This is an improvement, but the representation is still rather sparse.\n",
    "We also see that most speech information is in the lower bands, with a bit of energy in the higher frequencies.\n",
    "A common approach is to \"squeeze together\" the y-axis of all frequency bands by using a different scale, such as the [Mel-scale](https://en.wikipedia.org/wiki/Mel_scale).\n",
    "Lets \"squeeze\" the current 256 frequency bins into 40 Mel-bins."
   ],
   "metadata": {}
  },
  {
   "cell_type": "markdown",
   "source": [
    "### Log-scale Mel-spectrogram\n",
    "\n",
    "**Note** that we are scaling different things here.\n",
    "The Mel-scale warps the frequency bins (y-axis), while the logarithm is used to reduce relative differences between individual spectrogram values (pixels)."
   ],
   "metadata": {}
  },
  {
   "cell_type": "code",
   "execution_count": 61,
   "source": [
    "from lidbox.features.audio import linear_to_mel\n",
    "\n",
    "\n",
    "def logmelspectrograms(signals, rate):\n",
    "    powspecs = spectrograms(signals, rate)\n",
    "    melspecs = linear_to_mel(powspecs, rate, num_mel_bins=40)\n",
    "    return tf.math.log(melspecs + 1e-6)\n",
    "    \n",
    "\n",
    "logmelspec = logmelspectrograms([signal], rate)[0]\n",
    "#plot_spectrogram(logmelspec.numpy())"
   ],
   "outputs": [],
   "metadata": {}
  },
  {
   "cell_type": "markdown",
   "source": [
    "One common normalization technique is frequency channel standardization, i.e. normalization of rows to zero mean and unit variance."
   ],
   "metadata": {}
  },
  {
   "cell_type": "code",
   "execution_count": null,
   "source": [
    "from lidbox.features import cmvn\n",
    "\n",
    "logmelspec_mv = cmvn([logmelspec])[0]\n",
    "# plot_spectrogram(logmelspec_mv.numpy())"
   ],
   "outputs": [],
   "metadata": {}
  },
  {
   "cell_type": "code",
   "execution_count": 63,
   "source": [
    "logmelspectrograms([signal], rate).shape"
   ],
   "outputs": [
    {
     "output_type": "execute_result",
     "data": {
      "text/plain": [
       "TensorShape([1, 430, 40])"
      ]
     },
     "metadata": {},
     "execution_count": 63
    }
   ],
   "metadata": {}
  },
  {
   "cell_type": "code",
   "execution_count": 64,
   "source": [
    "cmvn([logmelspec]).shape"
   ],
   "outputs": [
    {
     "output_type": "execute_result",
     "data": {
      "text/plain": [
       "TensorShape([1, 430, 40])"
      ]
     },
     "metadata": {},
     "execution_count": 64
    }
   ],
   "metadata": {}
  },
  {
   "cell_type": "markdown",
   "source": [
    "Or only mean-normalization if you think the variances contain important information."
   ],
   "metadata": {}
  },
  {
   "cell_type": "code",
   "execution_count": null,
   "source": [
    "logmelspec_m = cmvn([logmelspec], normalize_variance=False)[0]\n",
    "plot_spectrogram(logmelspec_m.numpy())"
   ],
   "outputs": [],
   "metadata": {}
  },
  {
   "cell_type": "markdown",
   "source": [
    "## Cepstral representations\n",
    "\n",
    "Another common representation are the Mel-frequency cepstral coefficients (MFCC), which are obtained by applying the [discrete cosine transform](https://en.wikipedia.org/wiki/Discrete_cosine_transform) on the log-scale Mel-spectrogram.\n",
    "\n",
    "### MFCC"
   ],
   "metadata": {}
  },
  {
   "cell_type": "code",
   "execution_count": 67,
   "source": [
    "def plot_cepstra(X, figsize=None):\n",
    "    if not figsize:\n",
    "        figsize = (X.shape[0]/50, X.shape[1]/20)\n",
    "    plot_spectrogram(X, cmap=\"RdBu_r\", figsize=figsize)\n",
    "\n",
    "    \n",
    "mfcc = tf.signal.mfccs_from_log_mel_spectrograms([logmelspec])[0]\n",
    "#plot_cepstra(mfcc.numpy())"
   ],
   "outputs": [],
   "metadata": {
    "scrolled": false
   }
  },
  {
   "cell_type": "markdown",
   "source": [
    "Most of the information is concentrated in the lower coefficients.\n",
    "It is common to drop the 0th coefficient and select a subset starting at 1, e.g. 1 to 20.\n",
    "See [this post](http://practicalcryptography.com/miscellaneous/machine-learning/guide-mel-frequency-cepstral-coefficients-mfccs/) for more details."
   ],
   "metadata": {}
  },
  {
   "cell_type": "code",
   "execution_count": 68,
   "source": [
    "mfcc = mfcc[:,1:21]\n",
    "# plot_cepstra(mfcc.numpy())"
   ],
   "outputs": [
    {
     "output_type": "execute_result",
     "data": {
      "text/plain": [
       "TensorShape([430, 20])"
      ]
     },
     "metadata": {},
     "execution_count": 68
    }
   ],
   "metadata": {}
  },
  {
   "cell_type": "markdown",
   "source": [
    "Now we have a very compact representation, but most of the variance is still in the lower coefficients and overshadows the smaller changes in higher coefficients.\n",
    "We can normalize the MFCC matrix row-wise by standardizing each row to zero mean and unit variance.\n",
    "This is commonly called cepstral mean and variance normalization (CMVN).\n",
    "\n",
    "### MFCC + CMVN"
   ],
   "metadata": {}
  },
  {
   "cell_type": "code",
   "execution_count": null,
   "source": [
    "mfcc_cmvn = cmvn([mfcc])[0]\n",
    "# plot_cepstra(mfcc_cmvn.numpy())"
   ],
   "outputs": [],
   "metadata": {}
  },
  {
   "cell_type": "markdown",
   "source": [
    "### Which one is best?\n",
    "\n",
    "Speech feature extraction is a large, active research topic and it is impossible to choose one representation that would work well in all situations.\n",
    "Common choices in state-of-the-art spoken language identification are log-scale Mel-spectrograms and MFCCs, with different normalization approaches.\n",
    "For example, [here](https://github.com/swshon/dialectID_e2e) is an experiment in Arabic dialect identification, where log-scale Mel-spectra (referred to as FBANK) produced slightly better results compared to MFCCs.\n",
    "\n",
    "It is not obvious when to choose which representation, or if we should even use the FFT at all.\n",
    "You can read [this post](https://haythamfayek.com/2016/04/21/speech-processing-for-machine-learning.html) for a more detailed discussion.\n",
    "\n",
    "## Voice activity detection\n",
    "\n",
    "It is common for speech datasets to contain audio samples with short segments of silence or sounds that are not speech.\n",
    "Since these are usually irrelevant for making a language classification decision, we would prefer to discard such segments.\n",
    "This is called voice activity detection (VAD) and it is another large, active research area.\n",
    "[Here](https://wiki.aalto.fi/pages/viewpage.action?pageId=151500905) is a brief overview of VAD. \n",
    "\n",
    "Non-speech segments can be either noise or silence. \n",
    "Separating non-speech noise from speech is non-trivial but possible, for example with [neural networks](https://www.isca-speech.org/archive/Interspeech_2019/pdfs/1354.pdf).\n",
    "Silence, on the other hand, shows up as zeros in our speech representations, since these segments contain lower energy values compared to segments with speech.\n",
    "Such non-speech segments are therefore easy to detect and discard, for example by comparing the energy of the segment to the average energy of the whole sample.\n",
    "\n",
    "If the samples in our example do not contain much background noise, a simple energy-based VAD technique should be enough to drop all silent segments.\n",
    "We'll use the [root mean square](https://en.wikipedia.org/wiki/Root_mean_square) (RMS) energy to detect short silence segments.\n",
    "`lidbox` has a simple energy-based VAD function, which we will use as follows:\n",
    "\n",
    "1. Divide the signal into non-overlapping 10 ms long windows.\n",
    "2. Compute RMS of each window.\n",
    "3. Reduce all window RMS values by averaging to get a single mean RMS value.\n",
    "4. Set a decision threshold at 0.1 for marking silence windows. In other words, if the window RMS is less than 0.1 of the mean RMS, mark the window as silence.\n"
   ],
   "metadata": {}
  },
  {
   "cell_type": "code",
   "execution_count": 71,
   "source": [
    "from lidbox.features.audio import framewise_rms_energy_vad_decisions\n",
    "import matplotlib.patches as patches\n",
    "\n",
    "\n",
    "sentence, lang, clip_path = sample\n",
    "signal, rate = read_mp3(clip_path)\n",
    "\n",
    "window_ms = tf.constant(10, tf.int32)\n",
    "window_frame_length = (window_ms * rate) // 1000\n",
    "\n",
    "# Get binary VAD decisions for each 10 ms window\n",
    "vad_1 = framewise_rms_energy_vad_decisions(\n",
    "    signal=signal,\n",
    "    sample_rate=rate,\n",
    "    frame_step_ms=window_ms,\n",
    "    strength=0.1)\n",
    "\n",
    "# # Plot unfiltered signal\n",
    "# sns.set(rc={'figure.figsize': (6, 0.5)})\n",
    "# ax = sns.lineplot(data=signal, lw=0.1, legend=None)\n",
    "# ax.set_axis_off()\n",
    "# ax.margins(0)\n",
    "\n",
    "# # Plot shaded area over samples marked as not speech (VAD == 0)\n",
    "# for x, is_speech in enumerate(vad_1.numpy()):\n",
    "#     if not is_speech:\n",
    "#         rect = patches.Rectangle(\n",
    "#             (x*window_frame_length, -1),\n",
    "#             window_frame_length,\n",
    "#             2,\n",
    "#             linewidth=0,\n",
    "#             color='gray',\n",
    "#             alpha=0.2)\n",
    "#         ax.add_patch(rect)\n",
    "# plt.show()\n",
    "\n",
    "print(\"lang:\", lang)\n",
    "print(\"sentence: '{}'\".format(sentence))\n",
    "#embed_audio(signal, rate)\n",
    "\n",
    "# Partition the signal into 10 ms windows to match the VAD decisions\n",
    "windows = tf.signal.frame(signal, window_frame_length, window_frame_length)\n",
    "# Filter signal with VAD decision == 1 (remove gray areas)\n",
    "filtered_signal = tf.reshape(windows[vad_1], [-1])\n",
    "\n",
    "# plot_signal(filtered_signal)\n",
    "print(\"dropped {:d} out of {:d} frames, leaving {:.3f} of the original signal\".format(\n",
    "    signal.shape[0] - filtered_signal.shape[0],\n",
    "    signal.shape[0],\n",
    "    filtered_signal.shape[0]/signal.shape[0]))\n",
    "#embed_audio(filtered_signal, rate)"
   ],
   "outputs": [
    {
     "output_type": "stream",
     "name": "stdout",
     "text": [
      "lang: fi\n",
      "sentence: 'Ei, hiljaa oli Topi ystäväänsä huudellut.'\n",
      "dropped 27200 out of 69120 frames, leaving 0.606 of the original signal\n"
     ]
    }
   ],
   "metadata": {
    "scrolled": false
   }
  },
  {
   "cell_type": "code",
   "execution_count": 75,
   "source": [
    "filtered_signal.shape\n",
    "windows.shape\n"
   ],
   "outputs": [
    {
     "output_type": "execute_result",
     "data": {
      "text/plain": [
       "TensorShape([432, 160])"
      ]
     },
     "metadata": {},
     "execution_count": 75
    }
   ],
   "metadata": {}
  },
  {
   "cell_type": "markdown",
   "source": [
    "The filtered signal has less silence, but some of the pauses between words sound too short and unnatural.\n",
    "We would prefer not to remove small pauses that normally occur between words, so lets say all pauses shorter than 300 ms should not be filtered out.\n",
    "Lets also move all VAD code into a function."
   ],
   "metadata": {}
  },
  {
   "cell_type": "code",
   "execution_count": 78,
   "source": [
    "def remove_silence(signal, rate):\n",
    "    window_ms = tf.constant(10, tf.int32)\n",
    "    window_frames = (window_ms * rate) // 1000\n",
    "    \n",
    "    # Get binary VAD decisions for each 10 ms window\n",
    "    vad_1 = framewise_rms_energy_vad_decisions(\n",
    "        signal=signal,\n",
    "        sample_rate=rate,\n",
    "        frame_step_ms=window_ms,\n",
    "        # Do not return VAD = 0 decisions for sequences shorter than 300 ms\n",
    "        min_non_speech_ms=300,\n",
    "        strength=0.1)\n",
    "    \n",
    "    # Partition the signal into 10 ms windows to match the VAD decisions\n",
    "    windows = tf.signal.frame(signal, window_frames, window_frames)\n",
    "    # Filter signal with VAD decision == 1\n",
    "    return tf.reshape(windows[vad_1], [-1])\n",
    "\n",
    "\n",
    "sentence, lang, clip_path = sample\n",
    "signal, rate = read_mp3(clip_path)\n",
    "\n",
    "filtered_signal = remove_silence(signal, rate)\n",
    "# plot_signal(filtered_signal)\n",
    "\n",
    "print(\"dropped {:d} out of {:d} frames, leaving {:.3f} of the original signal\".format(\n",
    "    signal.shape[0] - filtered_signal.shape[0],\n",
    "    signal.shape[0],\n",
    "    filtered_signal.shape[0]/signal.shape[0]))\n",
    "\n",
    "print(\"lang:\", lang)\n",
    "print(\"sentence: '{}'\".format(sentence))\n",
    "#embed_audio(filtered_signal, rate)"
   ],
   "outputs": [
    {
     "output_type": "stream",
     "name": "stdout",
     "text": [
      "dropped 24640 out of 69120 frames, leaving 0.644 of the original signal\n",
      "lang: fi\n",
      "sentence: 'Ei, hiljaa oli Topi ystäväänsä huudellut.'\n"
     ]
    }
   ],
   "metadata": {}
  },
  {
   "cell_type": "markdown",
   "source": [
    "We dropped some silence segments but left most of the speech intact, perhaps this is enough for our example.\n",
    "\n",
    "Although this VAD approach is simple and works ok for our data, it will not work for speech data with non-speech sounds in the background like music or noise.\n",
    "For such data we might need more powerful VAD filters such as neural networks that have been trained on a speech vs non-speech classification task with large amounts of different noise.\n",
    "\n",
    "But lets not add more complexity to our example.\n",
    "We'll use the RMS based filter for all other signals too."
   ],
   "metadata": {}
  },
  {
   "cell_type": "markdown",
   "source": [
    "## Comparison of representations\n",
    "\n",
    "Lets extract these features for all signals in our random sample."
   ],
   "metadata": {}
  },
  {
   "cell_type": "code",
   "execution_count": 81,
   "source": [
    "for sentence, lang, clip_path in samples[[\"sentence\", \"lang\", \"path\"]].to_numpy():\n",
    "    signal_before_vad, rate = read_mp3(clip_path)\n",
    "    signal = remove_silence(signal_before_vad, rate)\n",
    "    \n",
    "    logmelspec = logmelspectrograms([signal], rate)[0]\n",
    "    #logmelspec_mvn = cmvn([logmelspec], normalize_variance=False)[0]\n",
    "    logmelspec_mvn = cmvn([logmelspec])[0]\n",
    "    \n",
    "    mfcc = tf.signal.mfccs_from_log_mel_spectrograms([logmelspec])[0]\n",
    "    mfcc = mfcc[:,1:21]\n",
    "    mfcc_cmvn = cmvn([mfcc])[0]\n",
    "    \n",
    "    plot_width = logmelspec.shape[0]/50\n",
    "    #plot_signal(signal.numpy(), figsize=(plot_width, .6))\n",
    "    print(\"VAD: {} -> {} sec\".format(\n",
    "        signal_before_vad.size / rate,\n",
    "        signal.numpy().size / rate))\n",
    "    print(\"lang:\", lang)\n",
    "    print(\"sentence:\", sentence)\n",
    "    #embed_audio(signal.numpy(), rate)\n",
    "    \n",
    "    #plot_spectrogram(logmelspec_mvn.numpy(), figsize=(plot_width, 1.2))\n",
    "    #plot_cepstra(mfcc_cmvn.numpy(), figsize=(plot_width, .6))\n",
    "    \n",
    "    #plot_separator()"
   ],
   "outputs": [
    {
     "output_type": "stream",
     "name": "stdout",
     "text": [
      "VAD: 4.32 -> 2.78 sec\n",
      "lang: fi\n",
      "sentence: Ei, hiljaa oli Topi ystäväänsä huudellut.\n",
      "VAD: 4.788 -> 3.9 sec\n",
      "lang: fi\n",
      "sentence: Oranssin ympyrän reunasta reunaan meni musta katkoviiva.\n"
     ]
    }
   ],
   "metadata": {
    "scrolled": false
   }
  },
  {
   "cell_type": "markdown",
   "source": [
    "## Loading the samples to a `tf.data.Dataset` iterator\n",
    "\n",
    "Our dataset is relatively small (2.5 GiB) and we might be able to read all files into signals and keep them in main memory.\n",
    "However, most speech datasets are much larger due to the amount of data needed for training neural network models that would be of any practical use.\n",
    "We need some kind of lazy iteration or streaming solution that views only one part of the dataset at a time.\n",
    "One such solution is to represent the dataset as a [TensorFlow iterator](https://www.tensorflow.org/api_docs/python/tf/data/Dataset), which evaluates its contents only when they are needed, similar to the [MapReduce](https://en.wikipedia.org/wiki/MapReduce) programming model for big data.\n",
    "\n",
    "The downside with lazy iteration or streaming is that we lose the capability of doing random access by row id.\n",
    "However, this shouldn't be a problem since we can always keep the whole metadata table in memory and do random access on its rows whenever needed.\n",
    "\n",
    "Another benefit of TensorFlow dataset iterators is that we can map arbitrary [`tf.function`](https://www.tensorflow.org/api_docs/python/tf/function)s over the dataset and TensorFlow will automatically parallelize the computations and place them on different devices, such as the GPU.\n",
    "The core architecture of `lidbox` has been organized around the `tf.data.Dataset` API, leaving all the heavy lifting for TensorFlow to handle.\n",
    "\n",
    "But before we load all our speech data, lets warmup with our small random sample of 8 rows."
   ],
   "metadata": {}
  },
  {
   "cell_type": "code",
   "execution_count": 82,
   "source": [
    "len(samples)"
   ],
   "outputs": [
    {
     "output_type": "execute_result",
     "data": {
      "text/plain": [
       "2"
      ]
     },
     "metadata": {},
     "execution_count": 82
    }
   ],
   "metadata": {
    "scrolled": false
   }
  },
  {
   "cell_type": "markdown",
   "source": [
    "Lets load it into a `tf.data.Dataset`."
   ],
   "metadata": {}
  },
  {
   "cell_type": "code",
   "execution_count": 83,
   "source": [
    "def metadata_to_dataset_input(meta):   \n",
    "    # Create a mapping from column names to all values under the column as tensors\n",
    "    return {\n",
    "        \"id\": tf.constant(meta.index, tf.string),\n",
    "        \"path\": tf.constant(meta.path, tf.string),\n",
    "        \"lang\": tf.constant(meta.lang, tf.string),\n",
    "        \"target\": tf.constant(meta.target, tf.int32),\n",
    "        \"split\": tf.constant(meta.split, tf.string),\n",
    "    }\n",
    "\n",
    "\n",
    "sample_ds = tf.data.Dataset.from_tensor_slices(metadata_to_dataset_input(samples))\n",
    "sample_ds"
   ],
   "outputs": [
    {
     "output_type": "execute_result",
     "data": {
      "text/plain": [
       "<TensorSliceDataset shapes: {id: (), path: (), lang: (), target: (), split: ()}, types: {id: tf.string, path: tf.string, lang: tf.string, target: tf.int32, split: tf.string}>"
      ]
     },
     "metadata": {},
     "execution_count": 83
    }
   ],
   "metadata": {}
  },
  {
   "cell_type": "markdown",
   "source": [
    "All elements produced by the `Dataset` iterator are `dict`s of (string, Tensor) pairs, where the string denotes the metadata type.\n",
    "\n",
    "Although the `Dataset` object is primarily for automating large-scale data processing pipelines, it is easy to extract all elements as `numpy`-values:"
   ],
   "metadata": {}
  },
  {
   "cell_type": "code",
   "execution_count": 84,
   "source": [
    "for x in sample_ds.as_numpy_iterator():\n",
    "    display(x)"
   ],
   "outputs": [
    {
     "output_type": "display_data",
     "data": {
      "text/plain": [
       "{'id': b'fi_25263300_train',\n",
       " 'path': b'/Users/haily/Downloads/cv-corpus-7.0-2021-07-21/fi/clips/common_voice_fi_25263300.mp3',\n",
       " 'lang': b'fi',\n",
       " 'target': 0,\n",
       " 'split': b'train'}"
      ]
     },
     "metadata": {}
    },
    {
     "output_type": "display_data",
     "data": {
      "text/plain": [
       "{'id': b'fi_25335195_train',\n",
       " 'path': b'/Users/haily/Downloads/cv-corpus-7.0-2021-07-21/fi/clips/common_voice_fi_25335195.mp3',\n",
       " 'lang': b'fi',\n",
       " 'target': 0,\n",
       " 'split': b'train'}"
      ]
     },
     "metadata": {}
    }
   ],
   "metadata": {
    "scrolled": false
   }
  },
  {
   "cell_type": "markdown",
   "source": [
    "### Reading audio files\n",
    "\n",
    "Lets load the signals by [mapping](https://www.tensorflow.org/api_docs/python/tf/data/Dataset#map) a file reading function for each element over the whole dataset.\n",
    "We'll add a `tf.data.Dataset` function wrapper on top of `read_mp3`, which we defined earlier.\n",
    "TensorFlow will infer the input and output values of the wrapper as tensors from the type signature of dataset elements.\n",
    "We must use `tf.numpy_function` if we want to allow calling the non-TensorFlow function `read_mp3` also from\n",
    "inside the graph environment.\n",
    "It might not be as efficient as using TensorFlow ops but reading a file would have a lot of latency anyway so this is not such a big hit for performance.\n",
    "Besides, we can always hide the latency by reading several files in parallel."
   ],
   "metadata": {}
  },
  {
   "cell_type": "code",
   "execution_count": 85,
   "source": [
    "def read_mp3_wrapper(x):\n",
    "    signal, sample_rate = tf.numpy_function(\n",
    "        # Function\n",
    "        read_mp3,\n",
    "        # Argument list\n",
    "        [x[\"path\"]],\n",
    "        # Return value types\n",
    "        [tf.float32, tf.int64])\n",
    "    return dict(x, signal=signal, sample_rate=tf.cast(sample_rate, tf.int32))\n",
    "\n",
    "\n",
    "for x in sample_ds.map(read_mp3_wrapper).as_numpy_iterator():\n",
    "    print(\"id: {}\".format(x[\"id\"].decode(\"utf-8\")))\n",
    "    print(\"signal.shape: {}, sample rate: {}\".format(x[\"signal\"].shape, x[\"sample_rate\"]))\n",
    "    print()"
   ],
   "outputs": [
    {
     "output_type": "stream",
     "name": "stdout",
     "text": [
      "id: fi_25263300_train\n",
      "signal.shape: (69120,), sample rate: 16000\n",
      "\n",
      "id: fi_25335195_train\n",
      "signal.shape: (76608,), sample rate: 16000\n",
      "\n"
     ]
    }
   ],
   "metadata": {
    "scrolled": false
   }
  },
  {
   "cell_type": "markdown",
   "source": [
    "### Removing silence and extracting features\n",
    "\n",
    "Organizing all preprocessing steps as functions that can be mapped over the `Dataset` object allows us to represent complex transformations easily."
   ],
   "metadata": {}
  },
  {
   "cell_type": "code",
   "execution_count": 87,
   "source": [
    "def remove_silence_wrapper(x):\n",
    "    return dict(x, signal=remove_silence(x[\"signal\"], x[\"sample_rate\"]))\n",
    "\n",
    "\n",
    "def batch_extract_features(x):\n",
    "    with tf.device(\"GPU\"):\n",
    "        signals, rates = x[\"signal\"], x[\"sample_rate\"]\n",
    "        logmelspecs = logmelspectrograms(signals, rates[0])\n",
    "        #logmelspecs_smn = cmvn(logmelspecs, normalize_variance=False)\n",
    "        logmelspecs_smn = cmvn(logmelspecs)\n",
    "        mfccs = tf.signal.mfccs_from_log_mel_spectrograms(logmelspecs)\n",
    "        mfccs = mfccs[...,1:21]\n",
    "        mfccs_cmvn = cmvn(mfccs)\n",
    "    return dict(x, logmelspec=logmelspecs_smn, mfcc=mfccs_cmvn)\n",
    "\n",
    "\n",
    "features_ds = (sample_ds.map(read_mp3_wrapper)\n",
    "                 .map(remove_silence_wrapper)\n",
    "                 .batch(1)\n",
    "                 .map(batch_extract_features)\n",
    "                 .unbatch())\n",
    "\n",
    "for x in features_ds.as_numpy_iterator():\n",
    "    print(x[\"id\"])\n",
    "    for k in (\"signal\", \"logmelspec\", \"mfcc\"):\n",
    "        print(\"{}.shape: {}\".format(k, x[k].shape))\n",
    "    print()"
   ],
   "outputs": [
    {
     "output_type": "stream",
     "name": "stdout",
     "text": [
      "b'fi_25263300_train'\n",
      "signal.shape: (44480,)\n",
      "logmelspec.shape: (276, 40)\n",
      "mfcc.shape: (276, 20)\n",
      "\n",
      "b'fi_25335195_train'\n",
      "signal.shape: (62400,)\n",
      "logmelspec.shape: (388, 40)\n",
      "mfcc.shape: (388, 20)\n",
      "\n"
     ]
    }
   ],
   "metadata": {
    "scrolled": false
   }
  },
  {
   "cell_type": "markdown",
   "source": [
    "### Inspecting dataset contents in TensorBoard\n",
    "\n",
    "`lidbox` has a helper function for dumping element information into [`TensorBoard`](https://www.tensorflow.org/tensorboard) summaries.\n",
    "This converts all 2D features into images, writes signals as audio summaries, and extracts utterance ids."
   ],
   "metadata": {}
  },
  {
   "cell_type": "code",
   "execution_count": null,
   "source": [
    "import lidbox.data.steps as ds_steps\n",
    "\n",
    "\n",
    "cachedir = os.path.join(workdir, \"cache\")\n",
    "\n",
    "_ = ds_steps.consume_to_tensorboard(\n",
    "    # Rename logmelspec as 'input', these will be plotted as images\n",
    "    ds=features_ds.map(lambda x: dict(x, input=x[\"logmelspec\"])),\n",
    "    summary_dir=os.path.join(cachedir, \"tensorboard\", \"data\", \"sample\"),\n",
    "    config={\"batch_size\": 1, \"image_size_multiplier\": 4})"
   ],
   "outputs": [],
   "metadata": {
    "scrolled": false
   }
  },
  {
   "cell_type": "markdown",
   "source": [
    "Open a terminal and launch TensorBoard to view the summaries written to `$wrkdir/cache/tensorboard/dataset/sample`:\n",
    "```\n",
    "tensorboard --logdir /data/exp/cv4/cache/tensorboard\n",
    "```\n",
    "Then open the url in a browser and inspect the contents.\n",
    "You can leave the server running, since we'll log the training progress to the same directory."
   ],
   "metadata": {}
  },
  {
   "cell_type": "markdown",
   "source": [
    "## Loading all data\n",
    "\n",
    "We'll now begin loading everything from disk and preparing a pipeline from mp3-filepaths to neural network input.\n",
    "We'll use the autotune feature of `tf.data` to allow TensorFlow figure out automatically how much of the pipeline should be split up into parallel calls."
   ],
   "metadata": {}
  },
  {
   "cell_type": "code",
   "execution_count": null,
   "source": [
    "import lidbox.data.steps as ds_steps\n",
    "\n",
    "TF_AUTOTUNE = tf.data.experimental.AUTOTUNE\n",
    "\n",
    "\n",
    "def signal_is_not_empty(x):\n",
    "    return tf.size(x[\"signal\"]) > 0\n",
    "    \n",
    "\n",
    "def pipeline_from_metadata(data, shuffle=False):\n",
    "    if shuffle:\n",
    "        # Shuffle metadata to get an even distribution of labels\n",
    "        data = data.sample(frac=1, random_state=np_rng.bit_generator)\n",
    "    ds = (\n",
    "        # Initialize dataset from metadata\n",
    "        tf.data.Dataset.from_tensor_slices(metadata_to_dataset_input(data))\n",
    "        # Read mp3 files from disk in parallel\n",
    "        .map(read_mp3_wrapper, num_parallel_calls=TF_AUTOTUNE)\n",
    "        # Apply RMS VAD to drop silence from all signals\n",
    "        .map(remove_silence_wrapper, num_parallel_calls=TF_AUTOTUNE)\n",
    "        # Drop signals that VAD removed completely\n",
    "        .filter(signal_is_not_empty)\n",
    "        # Extract features in parallel\n",
    "        .batch(1)\n",
    "        .map(batch_extract_features, num_parallel_calls=TF_AUTOTUNE)\n",
    "        .unbatch()\n",
    "    )\n",
    "    return ds\n",
    "\n",
    "\n",
    "# Mapping from dataset split names to tf.data.Dataset objects\n",
    "split2ds = {\n",
    "    split: pipeline_from_metadata(meta[meta[\"split\"]==split], shuffle=split==\"train\")\n",
    "    for split in split_names\n",
    "}"
   ],
   "outputs": [],
   "metadata": {
    "scrolled": false
   }
  },
  {
   "cell_type": "markdown",
   "source": [
    "### Testing pipeline performance\n",
    "\n",
    "Note that we only constructed the pipeline with all steps we want to compute.\n",
    "All TensorFlow ops are computed only when elements are requested from the iterator.\n",
    "\n",
    "Lets iterate over the training dataset from first to last element to ensure the pipeline will not be a performance bottleneck during training."
   ],
   "metadata": {}
  },
  {
   "cell_type": "code",
   "execution_count": null,
   "source": [
    "_ = ds_steps.consume(split2ds[\"train\"], log_interval=2000)"
   ],
   "outputs": [],
   "metadata": {
    "scrolled": false
   }
  },
  {
   "cell_type": "markdown",
   "source": [
    "### Caching pipeline state\n",
    "\n",
    "We can [cache](https://www.tensorflow.org/api_docs/python/tf/data/Dataset#cache) the iterator state as a single binary file at arbitrary stages.\n",
    "This allows us to automatically skip all steps that precede the call to `tf.Dataset.cache`.\n",
    "\n",
    "Lets cache the training dataset and iterate again over all elements to fill the cache.\n",
    "**Note** that you will still be storing all data on the disk (4.6 GiB new data), so this optimization is a space-time tradeoff."
   ],
   "metadata": {}
  },
  {
   "cell_type": "code",
   "execution_count": null,
   "source": [
    "os.makedirs(os.path.join(cachedir, \"data\"))\n",
    "\n",
    "split2ds[\"train\"] = split2ds[\"train\"].cache(os.path.join(cachedir, \"data\", \"train\"))\n",
    "_ = ds_steps.consume(split2ds[\"train\"], log_interval=2000)"
   ],
   "outputs": [],
   "metadata": {}
  },
  {
   "cell_type": "markdown",
   "source": [
    "If we iterate over the dataset again, TensorFlow should read all elements from the cache file."
   ],
   "metadata": {}
  },
  {
   "cell_type": "code",
   "execution_count": null,
   "source": [
    "_ = ds_steps.consume(split2ds[\"train\"], log_interval=2000)"
   ],
   "outputs": [],
   "metadata": {}
  },
  {
   "cell_type": "markdown",
   "source": [
    "As a side note, if your training environment has fast read-write access to a file system configured for reading and writing very large files, this optimization can be a very significant performance improvement.\n",
    "\n",
    "**Note** also that all usual problems related to cache invalidation apply.\n",
    "When caching extracted features and metadata to disk, be extra careful in your experiments to ensure you are not interpreting results computed on data from some outdated cache.\n",
    "\n",
    "### Dumping a few batches to TensorBoard \n",
    "\n",
    "Lets extract 100 first elements of every split to TensorBoard."
   ],
   "metadata": {}
  },
  {
   "cell_type": "code",
   "execution_count": null,
   "source": [
    "for split, ds in split2ds.items():\n",
    "    _ = ds_steps.consume_to_tensorboard(\n",
    "            ds.map(lambda x: dict(x, input=x[\"logmelspec\"])),\n",
    "            os.path.join(cachedir, \"tensorboard\", \"data\", split),\n",
    "            {\"batch_size\": 1,\n",
    "             \"image_size_multiplier\": 2,\n",
    "             \"num_batches\": 100},\n",
    "            exist_ok=True)"
   ],
   "outputs": [],
   "metadata": {
    "scrolled": true
   }
  },
  {
   "cell_type": "markdown",
   "source": [
    "## Training a supervised, neural network language classifier\n",
    "\n",
    "We have now configured an efficient data pipeline and extracted some data samples to summary files for TensorBoard.\n",
    "It is time to train a classifier on the data.\n",
    "\n",
    "### Drop metadata from dataset\n",
    "\n",
    "During training, we only need a tuple of model input and targets.\n",
    "We can therefore drop everything else from the dataset elements just before training starts.\n",
    "This is also a good place to decide if we want to train on MFCCs or Mel-spectra."
   ],
   "metadata": {}
  },
  {
   "cell_type": "code",
   "execution_count": null,
   "source": [
    "model_input_type = \"logmelspec\"\n",
    "\n",
    "def as_model_input(x):\n",
    "    return x[model_input_type], x[\"target\"]\n",
    "\n",
    "\n",
    "train_ds_demo = list(split2ds[\"train\"]\n",
    "                     .map(as_model_input)\n",
    "                     .shuffle(100)\n",
    "                     .take(6)\n",
    "                     .as_numpy_iterator())\n",
    "\n",
    "for input, target in train_ds_demo:\n",
    "    print(input.shape, target2lang[target])\n",
    "    if model_input_type == \"mfcc\":\n",
    "        plot_cepstra(input)\n",
    "    else:\n",
    "        plot_spectrogram(input)\n",
    "    plot_separator()"
   ],
   "outputs": [],
   "metadata": {
    "scrolled": false
   }
  },
  {
   "cell_type": "markdown",
   "source": [
    "### Asserting all input is valid\n",
    "\n",
    "Since the training dataset is cached, we can quickly iterate over all elements and check that we don't have any NaNs or negative targets."
   ],
   "metadata": {}
  },
  {
   "cell_type": "code",
   "execution_count": null,
   "source": [
    "def assert_finite(x, y):\n",
    "    tf.debugging.assert_all_finite(x, \"non-finite input\")\n",
    "    tf.debugging.assert_non_negative(y, \"negative target\")\n",
    "    return x, y\n",
    "\n",
    "_ = ds_steps.consume(split2ds[\"train\"].map(as_model_input).map(assert_finite), log_interval=5000)"
   ],
   "outputs": [],
   "metadata": {}
  },
  {
   "cell_type": "markdown",
   "source": [
    "It is also easy to compute stats on the dataset elements.\n",
    "For example finding global minimum and maximum values of the inputs."
   ],
   "metadata": {}
  },
  {
   "cell_type": "code",
   "execution_count": null,
   "source": [
    "x_min = split2ds[\"train\"].map(as_model_input).reduce(\n",
    "    tf.float32.max,\n",
    "    lambda acc, elem: tf.math.minimum(acc, tf.math.reduce_min(elem[0])))\n",
    "\n",
    "x_max = split2ds[\"train\"].map(as_model_input).reduce(\n",
    "    tf.float32.min,\n",
    "    lambda acc, elem: tf.math.maximum(acc, tf.math.reduce_max(elem[0])))\n",
    "\n",
    "print(\"input tensor global minimum: {}, maximum: {}\".format(x_min.numpy(), x_max.numpy()))"
   ],
   "outputs": [],
   "metadata": {
    "scrolled": false
   }
  },
  {
   "cell_type": "markdown",
   "source": [
    "### Selecting a model architecture\n",
    "\n",
    "`lidbox` provides a small set of neural network model architectures out of the box.\n",
    "Many of these architectures have good results in the literature for different datasets.\n",
    "These models have been implemented in Keras, so you could replace the model we are using here with anything you want.\n",
    "\n",
    "The [\"x-vector\"](http://danielpovey.com/files/2018_odyssey_xvector_lid.pdf) architecture has worked well in speaker and language identification so lets create an untrained Keras x-vector model.\n",
    "One of its core features is learning fixed length vector representations (x-vectors) for input of arbitrary length.\n",
    "These vectors are extracted from the first fully connected layer (`segment1`), without activation.\n",
    "This opens up opportunities for doing all kinds of statistical analysis on these vectors, but that's out of scope for our example.\n",
    "\n",
    "We'll try to regularize the network by adding frequency [channel dropout](https://dl.acm.org/doi/abs/10.1016/j.patrec.2017.09.023) with probability 0.8.\n",
    "In other words, during training we set input rows randomly to zeros with probability 0.8.\n",
    "This might avoid overfitting the network on frequency channels containing noise that is irrelevant for deciding the language."
   ],
   "metadata": {}
  },
  {
   "cell_type": "code",
   "execution_count": null,
   "source": [
    "import lidbox.models.xvector as xvector\n",
    "\n",
    "\n",
    "def create_model(num_freq_bins, num_labels):\n",
    "    model = xvector.create([None, num_freq_bins], num_labels, channel_dropout_rate=0.8)\n",
    "    model.compile(\n",
    "        loss=tf.keras.losses.SparseCategoricalCrossentropy(from_logits=True),\n",
    "        optimizer=tf.keras.optimizers.Adam(learning_rate=5e-5))\n",
    "    return model\n",
    "\n",
    "\n",
    "model = create_model(\n",
    "    num_freq_bins=20 if model_input_type == \"mfcc\" else 40,\n",
    "    num_labels=len(target2lang))\n",
    "model.summary()"
   ],
   "outputs": [],
   "metadata": {}
  },
  {
   "cell_type": "markdown",
   "source": [
    "### Channel dropout demo\n",
    "\n",
    "Here's what happens to the input during training."
   ],
   "metadata": {}
  },
  {
   "cell_type": "code",
   "execution_count": null,
   "source": [
    "channel_dropout = tf.keras.layers.SpatialDropout1D(model.get_layer(\"channel_dropout\").rate)\n",
    "\n",
    "for input, target in train_ds_demo:\n",
    "    print(input.shape, target2lang[target])\n",
    "    input = channel_dropout(tf.expand_dims(input, 0), training=True)[0].numpy()\n",
    "    if model_input_type == \"mfcc\":\n",
    "        plot_cepstra(input)\n",
    "    else:\n",
    "        plot_spectrogram(input)\n",
    "    plot_separator()"
   ],
   "outputs": [],
   "metadata": {
    "scrolled": false
   }
  },
  {
   "cell_type": "markdown",
   "source": [
    "### Training the classifier\n",
    "\n",
    "The validation set is needed after every epoch, so we might as well cache it.\n",
    "**Note** that this writes 2.5 GiB of additional data to disk the first time the validation set is iterated over, i.e. at the end of epoch 1.\n",
    "Also, we can't use batches since our input is of different lengths (perhaps with [ragged tensors](https://www.tensorflow.org/versions/r2.3/api_docs/python/tf/data/experimental/dense_to_ragged_batch))."
   ],
   "metadata": {}
  },
  {
   "cell_type": "code",
   "execution_count": null,
   "source": [
    "callbacks = [\n",
    "    # Write scalar metrics and network weights to TensorBoard\n",
    "    tf.keras.callbacks.TensorBoard(\n",
    "        log_dir=os.path.join(cachedir, \"tensorboard\", model.name),\n",
    "        update_freq=\"epoch\",\n",
    "        write_images=True,\n",
    "        profile_batch=0,\n",
    "    ),\n",
    "    # Stop training if validation loss has not improved from the global minimum in 10 epochs\n",
    "    tf.keras.callbacks.EarlyStopping(\n",
    "        monitor='val_loss',\n",
    "        patience=10,\n",
    "    ),\n",
    "    # Write model weights to cache everytime we get a new global minimum loss value\n",
    "    tf.keras.callbacks.ModelCheckpoint(\n",
    "        os.path.join(cachedir, \"model\", model.name),\n",
    "        monitor='val_loss',\n",
    "        save_weights_only=True,\n",
    "        save_best_only=True,\n",
    "        verbose=1,\n",
    "    ),\n",
    "]\n",
    "\n",
    "train_ds = split2ds[\"train\"].map(as_model_input).shuffle(1000)\n",
    "dev_ds = split2ds[\"dev\"].cache(os.path.join(cachedir, \"data\", \"dev\")).map(as_model_input)\n",
    "\n",
    "# history = model.fit(\n",
    "#     train_ds.batch(1),\n",
    "#     validation_data=dev_ds.batch(1),\n",
    "#     callbacks=callbacks,\n",
    "#     verbose=2,\n",
    "#     epochs=100)"
   ],
   "outputs": [],
   "metadata": {
    "scrolled": false
   }
  },
  {
   "cell_type": "markdown",
   "source": [
    "## Evaluating the classifier\n",
    "\n",
    "\n",
    "Lets run all test set samples through our trained model by loading the best weights from the cache."
   ],
   "metadata": {}
  },
  {
   "cell_type": "code",
   "execution_count": null,
   "source": [
    "# from lidbox.util import predict_with_model\n",
    "\n",
    "\n",
    "# test_ds = split2ds[\"test\"].map(lambda x: dict(x, input=x[\"logmelspec\"])).batch(1)\n",
    "\n",
    "# _ = model.load_weights(os.path.join(cachedir, \"model\", model.name))\n",
    "# utt2pred = predict_with_model(model, test_ds)\n",
    "\n",
    "# test_meta = meta[meta[\"split\"]==\"test\"]\n",
    "# assert not test_meta.join(utt2pred).isna().any(axis=None), \"missing predictions\"\n",
    "# test_meta = test_meta.join(utt2pred)\n",
    "# test_meta"
   ],
   "outputs": [],
   "metadata": {
    "scrolled": false
   }
  },
  {
   "cell_type": "markdown",
   "source": [
    "### Average detection cost ($\\text{C}_\\text{avg}$)\n",
    "\n",
    "The de facto standard metric for evaluating spoken language classifiers might be the *average detection cost* ($\\text{C}_\\text{avg}$), which has been refined to its current form during past [language recognition competitions](https://tsapps.nist.gov/publication/get_pdf.cfm?pub_id=925272).\n",
    "`lidbox` provides this metric as a `tf.keras.Metric` subclass.\n",
    "Scikit-learn provides other commonly used metrics so there is no need to manually compute those."
   ],
   "metadata": {}
  },
  {
   "cell_type": "code",
   "execution_count": null,
   "source": [
    "# from lidbox.util import classification_report\n",
    "# from lidbox.visualize import draw_confusion_matrix\n",
    "\n",
    "\n",
    "# true_sparse = test_meta.target.to_numpy(np.int32)\n",
    "\n",
    "# pred_dense = np.stack(test_meta.prediction)\n",
    "# pred_sparse = pred_dense.argmax(axis=1).astype(np.int32)\n",
    "\n",
    "# report = classification_report(true_sparse, pred_dense, lang2target)\n",
    "\n",
    "# for m in (\"avg_detection_cost\", \"avg_equal_error_rate\", \"accuracy\"):\n",
    "#     print(\"{}: {:.3f}\".format(m, report[m]))\n",
    "    \n",
    "# lang_metrics = pd.DataFrame.from_dict({k: v for k, v in report.items() if k in lang2target})\n",
    "# lang_metrics[\"mean\"] = lang_metrics.mean(axis=1)\n",
    "# display(lang_metrics.T)\n",
    "\n",
    "# fig, ax = draw_confusion_matrix(report[\"confusion_matrix\"], lang2target)"
   ],
   "outputs": [],
   "metadata": {}
  },
  {
   "cell_type": "markdown",
   "source": [
    "## Conclusions\n",
    "\n",
    "This was an example on deep learning based simple spoken language identification of 4 different languages from the Mozilla Common Voice free speech datasets.\n",
    "We managed to train a model that adequately recognizes languages spoken by the test set speakers.\n",
    "\n",
    "However, there is clearly room for improvement.\n",
    "We did simple random oversampling to balance the language distribution in the training set, but perhaps there are better ways to do this.\n",
    "We also did not tune optimization hyperparameters or try different neural network architectures or layer combinations.\n",
    "It might also be possible to increase robustness by audio feature engineering, such as [random FIR filtering](https://www.isca-speech.org/archive/Interspeech_2018/abstracts/1047.html) to simulate microphone differences."
   ],
   "metadata": {}
  }
 ],
 "metadata": {
  "kernelspec": {
   "name": "python3",
   "display_name": "Python 3.7.11 64-bit"
  },
  "language_info": {
   "codemirror_mode": {
    "name": "ipython",
    "version": 3
   },
   "file_extension": ".py",
   "mimetype": "text/x-python",
   "name": "python",
   "nbconvert_exporter": "python",
   "pygments_lexer": "ipython3",
   "version": "3.7.11"
  },
  "interpreter": {
   "hash": "7a3d88c904243d2c3f246166597f86d1c0a39f3d97496d1fe394945d0c6d436d"
  }
 },
 "nbformat": 4,
 "nbformat_minor": 4
}